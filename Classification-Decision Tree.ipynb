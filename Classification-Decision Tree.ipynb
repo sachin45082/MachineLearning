{
 "cells": [
  {
   "cell_type": "markdown",
   "metadata": {
    "tags": []
   },
   "source": [
    "## <font color=Blue>Project Explanation </font>\n",
    "\n",
    "### Overview\n",
    "* The below project will help to :-\n",
    "    * Analyze the Titanic dataset to evaluate different factors/features that might have played any role in the survival of the passengers onboarded. \n",
    "    * Calculate the weightage of these factors. It will give us an understanding on how much crucial a feature was in the survival of the passangers.\n",
    "    * Predict the survival of a passanger based on different values of these features.\n",
    "    * Probability of correctness of the prediction.\n",
    "    * Generate a confusion matrix to verify the predictions against the provided output to check the accuracy of the model.\n",
    "\n",
    "### Approach\n",
    "* First analyze the data using pandas to figure out :-\n",
    "    * The columns and number of records in the dataset.\n",
    "    * The missing values in different columns in the dataset.\n",
    "* Then use matplotlib and seaborn libraries to :-\n",
    "    * Understand different features in the data.\n",
    "    * Identity different features to be used in the model.\n",
    "* Create a new dataset to be used as inputs for the model by :-\n",
    "    * Selecting the features identified in previous steps\n",
    "    * Dropping the missing value records from the dataset.\n",
    "* Finally, train the model and predict the outcome for all passengers and few randon values by\n",
    "    * Scikit-Learn decision tree model and other methods for prediction and accuracy."
   ]
  },
  {
   "cell_type": "markdown",
   "metadata": {
    "tags": []
   },
   "source": [
    "### Memo \n",
    "#### Dataset Analysis\n",
    "The below section will explain all the findings of the analysis :-</br>\n",
    "__1.__ The Titanic dataset has 15 columns and 1309 datasets. </br>\n",
    "&nbsp;&nbsp;&nbsp;&nbsp;&nbsp;&nbsp;__Column Names :__ 'passengerid', 'pclass', 'survived', 'name', 'sex', 'age', 'sibsp', 'parch', 'ticket', 'fare', 'cabin', 'embarked', 'boat', 'body','destination'</br>\n",
    "__2.__ There will only be 239 records if we will drop all the missing value records. It won't be good to drop these many records as the other columns might have information that might help in the model. So, We need to further analyze the missing values at the columns level and see if we can skip specific columns from the dataset to create a relevant dataset for the model.</br>\n",
    "__3.__ There are 263 records with missing age, 1014 records with missing cabin information and 564 records with missing destination.</br>\n",
    "&nbsp;&nbsp;&nbsp;&nbsp;&nbsp;&nbsp;__a.__ A lot of values in Cabin and Destination is already missing. These fields might not even help that much in the model. It won't even make a major difference if we drop these columns from the dataset. So, We can drop \"Cabin\" and \"Destination\" fields from the dataset.</br>\n",
    "&nbsp;&nbsp;&nbsp;&nbsp;&nbsp;&nbsp;__b.__ Age is also having a considerable amount of missing values but Age can be a significant factor for this model. Passangers might have been given preferance to board the lifeboats based on the age like childrens might got preference over grownups etc. So, We will analyze the age data further to see if it can be an important feature for the model.</br>\n",
    "__4.__ The columns like \"name, ticket, boat, body, embarked, destination\" is just informational data about the passenger and doesn't seem to have any relevance for the model. So, We can skip these columns from further analysis.</br>\n",
    "__5.__ The columns like \"pclass, sex, age, fare, sibsp, parch\" seems relevant for the model. So, We will do a details analysis on these attributes in the next section.\n",
    "\n",
    "#### Feature Selection using Data Visualization\n",
    "The below section will explain how the relevant features are selected for the model from the dataset through data analysis and visualization. I will create different datasets (\"pclass, sex, fare, age, sibsp, parch\") from the main \"df\" dataset and figure out how many passengers survived and died based on these attributes. This will give us a high level overview of what feature should we select for the decision tree. :-</br>\n",
    "__1. \"sex\" :__ This data analysis on \"sex\" column proves that \"sex\" is a the most relevant feature for the model. So, We will definitely consider \"sex\" attribute for the model. </br>\n",
    "&nbsp;&nbsp;&nbsp;&nbsp;&nbsp;&nbsp;__Figure 1:__ This plot shows that there were more males on the ship than females but still more females survived. It means females were given priority over males to board the lifeboats. </br>\n",
    "&nbsp;&nbsp;&nbsp;&nbsp;&nbsp;&nbsp;__Figure 2:__ This plot shows approx. 73% of the females were rescued and only approx. 20% males were rescued.</br>\n",
    "__2. \"pclass\" :__ The data analysis on \"pclass\" column proves that pclass is a very relevant feature for the model. So, We will also consider this feature in our model. </br>\n",
    "&nbsp;&nbsp;&nbsp;&nbsp;&nbsp;&nbsp;__Figure 3__: This plot shows that maximum passengers were in class 3 ticket and maximun number of passengers died from this class only. It also shows that the minimum number of passengers were died from class 1.</br>\n",
    "&nbsp;&nbsp;&nbsp;&nbsp;&nbsp;&nbsp;__Figure 4__: This plot proves that the maximum percent of passengers were saved from class 1 and minimum from class 3. </br>\n",
    "__3. \"fare\" :__ Fare column values are discrete. So, We bucketed the values in 4 pairs of equal counts to conclude if fare has any relevance for our model. It looks from the analysis that \"fare\" also has some relevance. We should also consider this for the model. </br>\n",
    "&nbsp;&nbsp;&nbsp;&nbsp;&nbsp;&nbsp;__Figure 5:__ This plot shows all the 4 fare ranges and depicts that the more the passengers paid, the more the chances for thier survival. Fare should also be directly proportional to the class. Which also justifies that the person in the class 1 paid more and had more chances for survival. </br>\n",
    "&nbsp;&nbsp;&nbsp;&nbsp;&nbsp;&nbsp;__Figure 6:__ This plot shows approx. 60% of the passengers who paid more than $30 survived. The percentage of passengers surivived increased with increase in the fare. </br>\n",
    "__4. \"Age\" :__ Age column values are also discrete. So, We again bucketed the values in 4 pairs on the basis of values to evaluate if age has any relevance for our model. It looks like \"age\" is not so relavant as the percentage of survival is almost same among all the age groups. So, We won't consider this for the model. </br>\n",
    "&nbsp;&nbsp;&nbsp;&nbsp;&nbsp;&nbsp;__Figure 7:__ This plot shows all the 4 fare ranges of age and shows that the approx. 50% of the passengers are from the age group (20-40).Approx. 20% were less than 20 years old. </br>\n",
    "&nbsp;&nbsp;&nbsp;&nbsp;&nbsp;&nbsp;__Figure 8:__ This plot shows that the percentage of passenger survived in all age groups are comparable.</br>\n",
    "__5. \"sibsp\" :__ This column shows how many sibling and spouse does a passenger has onboard. I wanted to see if it matters for the survival like they might have preferred the people with family to be rescued first or if a lady has been rescued by lifeboat, they might have rescued the husband and other siblings etc. But I could find any patterens that the passengers with siblings or spouse made any difference. The __Table - Siblings and Spouse__ shows that the survived percentage across different sibsp values are comparable. So, We will skip this column from the model. </br>\n",
    "__6. \"parch\" :__ This column shows if a passenger has parents and children onboard. I also wanted to check if they rescued a child, did they gave priority to the parents to be rescued as well. I didn't see any such patern in the data. The __Table - Parents and Children__ shows that the survived percentage across different parch values are comparable. So, I skipped this feature as well. </br>\n",
    "__7. Figure 9__ - This heatmap shows the correlation between the attributes to quantify the impact of our selected feacture on the survival of the passengers. The heatmap shows that sex is 0.53, class is 0.31 and fare is 0.24 related to survival. So, It proves that sex,class and fare should be considered as features for our mode as figured out in the above analysis as well. </br>\n",
    "\n",
    "#### Model - Decision Tree\n",
    "The section will explain the outcome of the decision tree using the graph. We will calculate the accuracy of the model and also find the prediction by giving random values and for all the passenger based on the model and see the confusion matrix.:- </br>\n",
    "\n",
    "__1.__ I selected sex, pclass and fare features based on the above analysis and created the decision tree model. We created a new dataset \"df2\" with the selected features and dropped all the missing value records. There was 1 record with missing fare value. </br>\n",
    "__2. Figure 10 -__ The model started with the gini score of 0.472 and then reduced the gini score to 0.0, 0.057, 0.165, 0.235, 0.258 in certain leaf nodes which shows the model is good. The figure shows the complete decision tree model graph. It created the first layer on the basis of Sex, the second for class and the third for fare. </br>\n",
    "&nbsp;&nbsp;&nbsp;&nbsp;&nbsp;&nbsp;__a.__ \"sex\" feature has less Gini index in comparision to class and fare. That's why the model has created Sex as the root node. The root node shows that 500 people have survived and 808 people died out of the total population of 1308 with a Gini impurity of 0.472 which means that there are passengers survived and died irrespective of their sex. This gini score shows that mix(impurity) in the data.</br>\n",
    "&nbsp;&nbsp;&nbsp;&nbsp;&nbsp;&nbsp;__b.__ The model selected class at the second most important feature and reduced the gini on both second level nodes. The top node shows a gini score of 0.397 with a sample size of 466 out of which 127 died and 339 survived. The below node have a sample size of 842 males with a gini index of 0.309. There were 681 males died and 161 survived. This is inline with our analysis in Figure 1.</br>\n",
    "&nbsp;&nbsp;&nbsp;&nbsp;&nbsp;&nbsp;__c.__ Fare is choosen as the least important feature of the decision tree inline with what is shown in the Figure 9. The last node at level 3 shows that most of the passengers specifically males (663) were in class 2 or class 3 out of which 563 died. The 2nd node at 3rd level shows 216 females in class 3 out of which 106 survived. The first node shows that 233 females ( the major chuck from all survived ) were saved from class 1st and class 2nd and the 3rd node shows that 61 males were saved from class 1st.</br>\n",
    "&nbsp;&nbsp;&nbsp;&nbsp;&nbsp;&nbsp;__d.__ The 2nd leaf nodes shows 166 females out of 171 who paid more than \\\\$27 were rescued with a gini score of 0.057 and only 3 females out of 33(4th node) were rescued who paid between \\\\$23-$26 with gini score of 0.165. It also shows that 2 males out of 2 (6th node) survived who pais more than \\\\$387 with gini index of 0. The second last node shows 433 males died out of 501 who paid less that \\\\$15 with gini score of 0.235.</br>\n",
    "__3.__ The accuracy of the model is more than 80% (__Reference : Tab - Model Accuracy__ ) which is fairy good. \"Sex\" is the most important feature at 70% and then class at 23% and last fare at approx. 7% ( __Reference : Tab - Feature Importance__).</br>\n",
    "__4.__ The confusion matrix ( __Reference : Tab - Confusion Matrix__ ) shows that the model predicted 711 passengers will die ( True Positives ) and 338 will survive ( True Negatives ). It also predicted 162 people will die which actually survived ( False Positives ) and 97 survived which actually died ( False Negatives ).</br>\n",
    "__5.__ I gave 5 different values of different features to predict the survival and checked the probability of the outcome as well ( __References : Tab - Model Predictions and Tab - Model Prediction Probability__ ).</br>\n",
    "&nbsp;&nbsp;&nbsp;&nbsp;&nbsp;&nbsp;__a.__ A female in 1st class who paid \\\\$25 has approx. 85% probability of survival. She belongs to the  top node in the leaf level with gini score of 0.258. 67 out of 79 females survived in this class. So, There is a high probability of survival.</br>\n",
    "&nbsp;&nbsp;&nbsp;&nbsp;&nbsp;&nbsp;__b.__ A female in 3rd class who paid \\\\$5 has only 56% probability of survival. She belongs to 3rd node in the leaf level with gini score of 0.492 ( which is not that good at leaf node ). 103 females out of 183 survived in this class. So, The probability of survival is less but the only 80 died out of 183. So, Probability of survival is more than dying. </br>\n",
    "&nbsp;&nbsp;&nbsp;&nbsp;&nbsp;&nbsp;__c.__ A male in 3rd class who paid \\\\$5 has 86% probability of not being rescued. The person belongs to the second last node of the leaf level in which 433 males died out of 501. So, This person is having 86% probability of dying.</br>\n",
    "&nbsp;&nbsp;&nbsp;&nbsp;&nbsp;&nbsp;__d.__ A male in 1st class who paid \\\\$400 will survive for sure with 100% confidence. The passenger falls in the best category which is 6th node in the leaf level where everyone survived. That why model predicted that the person will 100% survive.</br>\n",
    "&nbsp;&nbsp;&nbsp;&nbsp;&nbsp;&nbsp;__d.__ A male in 2nd class who paid \\\\$20 will not be able survive with 80% probability. The male falls in last node of leaf level where 130 males died out of 162. Again very less probability of survival. </br>\n",
    "\n",
    "I still tried to use the (\"age\",\"sibsp\",\"parch\") attributes in the model to see if it increases any accuracy but it didn't make much difference. So, I dropped them.</br>\n",
    "I was skeptical about using Fare as Fare should be directly proportional to class and we have already considered class in the model. But I still used it because it increased the model accuracy by 2% making it 80%+. So, I still kept it intentionally."
   ]
  },
  {
   "cell_type": "markdown",
   "metadata": {},
   "source": [
    "### Dataset Analysis"
   ]
  },
  {
   "cell_type": "code",
   "execution_count": 1,
   "metadata": {},
   "outputs": [
    {
     "name": "stdout",
     "output_type": "stream",
     "text": [
      "(1309, 15)\n",
      "Index(['passengerid', 'pclass', 'survived', 'name', 'sex', 'age', 'sibsp',\n",
      "       'parch', 'ticket', 'fare', 'cabin', 'embarked', 'boat', 'body',\n",
      "       'destination'],\n",
      "      dtype='object')\n"
     ]
    },
    {
     "data": {
      "text/html": [
       "<div>\n",
       "<style scoped>\n",
       "    .dataframe tbody tr th:only-of-type {\n",
       "        vertical-align: middle;\n",
       "    }\n",
       "\n",
       "    .dataframe tbody tr th {\n",
       "        vertical-align: top;\n",
       "    }\n",
       "\n",
       "    .dataframe thead th {\n",
       "        text-align: right;\n",
       "    }\n",
       "</style>\n",
       "<table border=\"1\" class=\"dataframe\">\n",
       "  <thead>\n",
       "    <tr style=\"text-align: right;\">\n",
       "      <th></th>\n",
       "      <th>passengerid</th>\n",
       "      <th>pclass</th>\n",
       "      <th>survived</th>\n",
       "      <th>name</th>\n",
       "      <th>sex</th>\n",
       "      <th>age</th>\n",
       "      <th>sibsp</th>\n",
       "      <th>parch</th>\n",
       "      <th>ticket</th>\n",
       "      <th>fare</th>\n",
       "      <th>cabin</th>\n",
       "      <th>embarked</th>\n",
       "      <th>boat</th>\n",
       "      <th>body</th>\n",
       "      <th>destination</th>\n",
       "    </tr>\n",
       "  </thead>\n",
       "  <tbody>\n",
       "    <tr>\n",
       "      <th>0</th>\n",
       "      <td>100</td>\n",
       "      <td>1</td>\n",
       "      <td>1</td>\n",
       "      <td>Duff Gordon, Lady. (Lucille Christiana Sutherl...</td>\n",
       "      <td>female</td>\n",
       "      <td>48.0</td>\n",
       "      <td>1</td>\n",
       "      <td>0</td>\n",
       "      <td>11755</td>\n",
       "      <td>39.6000</td>\n",
       "      <td>A16</td>\n",
       "      <td>C</td>\n",
       "      <td>1</td>\n",
       "      <td>0</td>\n",
       "      <td>London / Paris</td>\n",
       "    </tr>\n",
       "    <tr>\n",
       "      <th>1</th>\n",
       "      <td>101</td>\n",
       "      <td>1</td>\n",
       "      <td>1</td>\n",
       "      <td>Duff Gordon, Sir. Cosmo Edmund (\"Mr Morgan\")</td>\n",
       "      <td>male</td>\n",
       "      <td>49.0</td>\n",
       "      <td>1</td>\n",
       "      <td>0</td>\n",
       "      <td>PC 17485</td>\n",
       "      <td>56.9292</td>\n",
       "      <td>A20</td>\n",
       "      <td>C</td>\n",
       "      <td>1</td>\n",
       "      <td>0</td>\n",
       "      <td>London / Paris</td>\n",
       "    </tr>\n",
       "    <tr>\n",
       "      <th>2</th>\n",
       "      <td>118</td>\n",
       "      <td>1</td>\n",
       "      <td>1</td>\n",
       "      <td>Francatelli, Miss. Laura Mabel</td>\n",
       "      <td>female</td>\n",
       "      <td>30.0</td>\n",
       "      <td>0</td>\n",
       "      <td>0</td>\n",
       "      <td>PC 17485</td>\n",
       "      <td>56.9292</td>\n",
       "      <td>E36</td>\n",
       "      <td>C</td>\n",
       "      <td>1</td>\n",
       "      <td>0</td>\n",
       "      <td>NaN</td>\n",
       "    </tr>\n",
       "    <tr>\n",
       "      <th>3</th>\n",
       "      <td>257</td>\n",
       "      <td>1</td>\n",
       "      <td>1</td>\n",
       "      <td>Salomon, Mr. Abraham L</td>\n",
       "      <td>male</td>\n",
       "      <td>NaN</td>\n",
       "      <td>0</td>\n",
       "      <td>0</td>\n",
       "      <td>111163</td>\n",
       "      <td>26.0000</td>\n",
       "      <td>NaN</td>\n",
       "      <td>S</td>\n",
       "      <td>1</td>\n",
       "      <td>0</td>\n",
       "      <td>New York, NY</td>\n",
       "    </tr>\n",
       "    <tr>\n",
       "      <th>4</th>\n",
       "      <td>281</td>\n",
       "      <td>1</td>\n",
       "      <td>1</td>\n",
       "      <td>Stengel, Mr. Charles Emil Henry</td>\n",
       "      <td>male</td>\n",
       "      <td>54.0</td>\n",
       "      <td>1</td>\n",
       "      <td>0</td>\n",
       "      <td>11778</td>\n",
       "      <td>55.4417</td>\n",
       "      <td>C116</td>\n",
       "      <td>C</td>\n",
       "      <td>1</td>\n",
       "      <td>0</td>\n",
       "      <td>Newark, NJ</td>\n",
       "    </tr>\n",
       "  </tbody>\n",
       "</table>\n",
       "</div>"
      ],
      "text/plain": [
       "   passengerid  pclass  survived  \\\n",
       "0          100       1         1   \n",
       "1          101       1         1   \n",
       "2          118       1         1   \n",
       "3          257       1         1   \n",
       "4          281       1         1   \n",
       "\n",
       "                                                name     sex   age  sibsp  \\\n",
       "0  Duff Gordon, Lady. (Lucille Christiana Sutherl...  female  48.0      1   \n",
       "1       Duff Gordon, Sir. Cosmo Edmund (\"Mr Morgan\")    male  49.0      1   \n",
       "2                     Francatelli, Miss. Laura Mabel  female  30.0      0   \n",
       "3                             Salomon, Mr. Abraham L    male   NaN      0   \n",
       "4                    Stengel, Mr. Charles Emil Henry    male  54.0      1   \n",
       "\n",
       "   parch    ticket     fare cabin embarked boat  body     destination  \n",
       "0      0     11755  39.6000   A16        C    1     0  London / Paris  \n",
       "1      0  PC 17485  56.9292   A20        C    1     0  London / Paris  \n",
       "2      0  PC 17485  56.9292   E36        C    1     0             NaN  \n",
       "3      0    111163  26.0000   NaN        S    1     0    New York, NY  \n",
       "4      0     11778  55.4417  C116        C    1     0      Newark, NJ  "
      ]
     },
     "execution_count": 1,
     "metadata": {},
     "output_type": "execute_result"
    }
   ],
   "source": [
    "# Reference for Dataset Analysis Point 1 \n",
    "\n",
    "import pandas as pd\n",
    "df = pd.read_csv('titanic.csv')\n",
    "print(df.shape)\n",
    "print(df.columns)\n",
    "df.head()"
   ]
  },
  {
   "cell_type": "code",
   "execution_count": 2,
   "metadata": {},
   "outputs": [
    {
     "name": "stdout",
     "output_type": "stream",
     "text": [
      "(239, 15)\n"
     ]
    }
   ],
   "source": [
    "# Reference for Dataset Analysis Point 2 \n",
    "\n",
    "print(df.dropna().shape)"
   ]
  },
  {
   "cell_type": "markdown",
   "metadata": {},
   "source": [
    "This indicates that the original dataset has 1309 rows and 15 columns.  If we use dropna on the entire dataset, we will lose 1070 rows (82% of the data)! "
   ]
  },
  {
   "cell_type": "code",
   "execution_count": 3,
   "metadata": {},
   "outputs": [
    {
     "name": "stdout",
     "output_type": "stream",
     "text": [
      "passengerid       0\n",
      "pclass            0\n",
      "survived          0\n",
      "name              0\n",
      "sex               0\n",
      "age             263\n",
      "sibsp             0\n",
      "parch             0\n",
      "ticket            0\n",
      "fare              1\n",
      "cabin          1014\n",
      "embarked          2\n",
      "boat              0\n",
      "body              0\n",
      "destination     564\n",
      "dtype: int64\n"
     ]
    }
   ],
   "source": [
    "# Reference for Dataset Analysis Point 3\n",
    "\n",
    "print(df.isnull().sum())"
   ]
  },
  {
   "cell_type": "markdown",
   "metadata": {},
   "source": [
    "### Feature Selection using Data Visualization"
   ]
  },
  {
   "cell_type": "code",
   "execution_count": 4,
   "metadata": {},
   "outputs": [
    {
     "data": {
      "text/html": [
       "<div>\n",
       "<style scoped>\n",
       "    .dataframe tbody tr th:only-of-type {\n",
       "        vertical-align: middle;\n",
       "    }\n",
       "\n",
       "    .dataframe tbody tr th {\n",
       "        vertical-align: top;\n",
       "    }\n",
       "\n",
       "    .dataframe thead th {\n",
       "        text-align: right;\n",
       "    }\n",
       "</style>\n",
       "<table border=\"1\" class=\"dataframe\">\n",
       "  <thead>\n",
       "    <tr style=\"text-align: right;\">\n",
       "      <th></th>\n",
       "      <th>sex</th>\n",
       "      <th>passengerid</th>\n",
       "    </tr>\n",
       "  </thead>\n",
       "  <tbody>\n",
       "    <tr>\n",
       "      <th>0</th>\n",
       "      <td>female</td>\n",
       "      <td>466</td>\n",
       "    </tr>\n",
       "    <tr>\n",
       "      <th>1</th>\n",
       "      <td>male</td>\n",
       "      <td>843</td>\n",
       "    </tr>\n",
       "  </tbody>\n",
       "</table>\n",
       "</div>"
      ],
      "text/plain": [
       "      sex  passengerid\n",
       "0  female          466\n",
       "1    male          843"
      ]
     },
     "execution_count": 4,
     "metadata": {},
     "output_type": "execute_result"
    }
   ],
   "source": [
    "dfSex = df[['passengerid','survived','sex']]\n",
    "sexCnt = dfSex.groupby('sex',as_index = False)['passengerid'].count()\n",
    "sexCnt"
   ]
  },
  {
   "cell_type": "code",
   "execution_count": 5,
   "metadata": {
    "scrolled": true
   },
   "outputs": [
    {
     "data": {
      "text/html": [
       "<div>\n",
       "<style scoped>\n",
       "    .dataframe tbody tr th:only-of-type {\n",
       "        vertical-align: middle;\n",
       "    }\n",
       "\n",
       "    .dataframe tbody tr th {\n",
       "        vertical-align: top;\n",
       "    }\n",
       "\n",
       "    .dataframe thead th {\n",
       "        text-align: right;\n",
       "    }\n",
       "</style>\n",
       "<table border=\"1\" class=\"dataframe\">\n",
       "  <thead>\n",
       "    <tr style=\"text-align: right;\">\n",
       "      <th>sex</th>\n",
       "      <th>female</th>\n",
       "      <th>male</th>\n",
       "    </tr>\n",
       "    <tr>\n",
       "      <th>survived</th>\n",
       "      <th></th>\n",
       "      <th></th>\n",
       "    </tr>\n",
       "  </thead>\n",
       "  <tbody>\n",
       "    <tr>\n",
       "      <th>0</th>\n",
       "      <td>127</td>\n",
       "      <td>682</td>\n",
       "    </tr>\n",
       "    <tr>\n",
       "      <th>1</th>\n",
       "      <td>339</td>\n",
       "      <td>161</td>\n",
       "    </tr>\n",
       "  </tbody>\n",
       "</table>\n",
       "</div>"
      ],
      "text/plain": [
       "sex       female  male\n",
       "survived              \n",
       "0            127   682\n",
       "1            339   161"
      ]
     },
     "execution_count": 5,
     "metadata": {},
     "output_type": "execute_result"
    }
   ],
   "source": [
    "pd.crosstab(dfSex.survived, dfSex.sex)"
   ]
  },
  {
   "cell_type": "markdown",
   "metadata": {},
   "source": [
    "The above crosstab counts the number of females vs. men who lived (survived=1) and died (survived= 0). Apparently 339 out of 466 (73\\%) of women survived, but only 161 out of 843 (20\\%) of men survived.\n",
    "\n",
    "All things being equal, features that differentiate those that lived and died decrease entropy (gini score) and will be more valuable in our decision tree! The above suggests that gender may be a good feature."
   ]
  },
  {
   "cell_type": "code",
   "execution_count": 6,
   "metadata": {},
   "outputs": [
    {
     "data": {
      "text/html": [
       "<div>\n",
       "<style scoped>\n",
       "    .dataframe tbody tr th:only-of-type {\n",
       "        vertical-align: middle;\n",
       "    }\n",
       "\n",
       "    .dataframe tbody tr th {\n",
       "        vertical-align: top;\n",
       "    }\n",
       "\n",
       "    .dataframe thead th {\n",
       "        text-align: right;\n",
       "    }\n",
       "</style>\n",
       "<table border=\"1\" class=\"dataframe\">\n",
       "  <thead>\n",
       "    <tr style=\"text-align: right;\">\n",
       "      <th></th>\n",
       "      <th>sex</th>\n",
       "      <th>sexCnt</th>\n",
       "      <th>survivedCnt</th>\n",
       "      <th>notSurvivedCnt</th>\n",
       "      <th>percentSurvived</th>\n",
       "    </tr>\n",
       "  </thead>\n",
       "  <tbody>\n",
       "    <tr>\n",
       "      <th>0</th>\n",
       "      <td>female</td>\n",
       "      <td>466</td>\n",
       "      <td>339</td>\n",
       "      <td>127</td>\n",
       "      <td>72.746781</td>\n",
       "    </tr>\n",
       "    <tr>\n",
       "      <th>1</th>\n",
       "      <td>male</td>\n",
       "      <td>843</td>\n",
       "      <td>161</td>\n",
       "      <td>682</td>\n",
       "      <td>19.098458</td>\n",
       "    </tr>\n",
       "  </tbody>\n",
       "</table>\n",
       "</div>"
      ],
      "text/plain": [
       "      sex  sexCnt  survivedCnt  notSurvivedCnt  percentSurvived\n",
       "0  female     466          339             127        72.746781\n",
       "1    male     843          161             682        19.098458"
      ]
     },
     "execution_count": 6,
     "metadata": {},
     "output_type": "execute_result"
    }
   ],
   "source": [
    "survivedCntbySex = dfSex.groupby('sex',as_index = False)['survived'].sum()\n",
    "notSurvivedCntbySex = dfSex.where(dfSex['survived'] == 0).groupby('sex',as_index = False)['survived'].count()\n",
    "dfSexAgg = pd.DataFrame({'sex' : sexCnt.sex,'sexCnt' : sexCnt.passengerid, 'survivedCnt' : survivedCntbySex.survived, \\\n",
    "                    'notSurvivedCnt' : notSurvivedCntbySex.survived, 'percentSurvived': (survivedCntbySex.survived/sexCnt.passengerid) * 100})\n",
    "dfSexAgg"
   ]
  },
  {
   "cell_type": "code",
   "execution_count": 7,
   "metadata": {},
   "outputs": [
    {
     "data": {
      "text/plain": [
       "Text(0.5, 1.0, 'Figure 1')"
      ]
     },
     "execution_count": 7,
     "metadata": {},
     "output_type": "execute_result"
    },
    {
     "data": {
      "image/png": "[encoded data removed]",
      "text/plain": [
       "<Figure size 432x288 with 1 Axes>"
      ]
     },
     "metadata": {
      "needs_background": "light"
     },
     "output_type": "display_data"
    }
   ],
   "source": [
    "import seaborn as sns\n",
    "dfSexMelt= dfSexAgg.melt('sex')\n",
    "sns.barplot(x = 'sex', y = 'value', hue = 'variable', data = dfSexMelt)\\\n",
    ".set_title( 'Figure 1', fontdict= { 'fontsize': 18, 'fontweight':'bold'})"
   ]
  },
  {
   "cell_type": "code",
   "execution_count": 8,
   "metadata": {},
   "outputs": [
    {
     "data": {
      "text/plain": [
       "Text(0.5, 1.0, 'Figure 2')"
      ]
     },
     "execution_count": 8,
     "metadata": {},
     "output_type": "execute_result"
    },
    {
     "data": {
      "image/png": "[encoded data removed]",
      "text/plain": [
       "<Figure size 432x288 with 1 Axes>"
      ]
     },
     "metadata": {
      "needs_background": "light"
     },
     "output_type": "display_data"
    }
   ],
   "source": [
    "sns.barplot(x = 'sex',y = 'percentSurvived', data = dfSexAgg)\\\n",
    ".set_title( 'Figure 2', fontdict= { 'fontsize': 18, 'fontweight':'bold'})"
   ]
  },
  {
   "cell_type": "code",
   "execution_count": 9,
   "metadata": {},
   "outputs": [
    {
     "data": {
      "text/html": [
       "<div>\n",
       "<style scoped>\n",
       "    .dataframe tbody tr th:only-of-type {\n",
       "        vertical-align: middle;\n",
       "    }\n",
       "\n",
       "    .dataframe tbody tr th {\n",
       "        vertical-align: top;\n",
       "    }\n",
       "\n",
       "    .dataframe thead th {\n",
       "        text-align: right;\n",
       "    }\n",
       "</style>\n",
       "<table border=\"1\" class=\"dataframe\">\n",
       "  <thead>\n",
       "    <tr style=\"text-align: right;\">\n",
       "      <th></th>\n",
       "      <th>pclass</th>\n",
       "      <th>passengerid</th>\n",
       "    </tr>\n",
       "  </thead>\n",
       "  <tbody>\n",
       "    <tr>\n",
       "      <th>0</th>\n",
       "      <td>1</td>\n",
       "      <td>323</td>\n",
       "    </tr>\n",
       "    <tr>\n",
       "      <th>1</th>\n",
       "      <td>2</td>\n",
       "      <td>277</td>\n",
       "    </tr>\n",
       "    <tr>\n",
       "      <th>2</th>\n",
       "      <td>3</td>\n",
       "      <td>709</td>\n",
       "    </tr>\n",
       "  </tbody>\n",
       "</table>\n",
       "</div>"
      ],
      "text/plain": [
       "   pclass  passengerid\n",
       "0       1          323\n",
       "1       2          277\n",
       "2       3          709"
      ]
     },
     "execution_count": 9,
     "metadata": {},
     "output_type": "execute_result"
    }
   ],
   "source": [
    "dfPclass = df[['passengerid','survived','pclass']]\n",
    "temp = dfPclass.groupby('pclass',as_index = False)['passengerid'].count()\n",
    "temp"
   ]
  },
  {
   "cell_type": "code",
   "execution_count": 10,
   "metadata": {},
   "outputs": [
    {
     "data": {
      "text/html": [
       "<div>\n",
       "<style scoped>\n",
       "    .dataframe tbody tr th:only-of-type {\n",
       "        vertical-align: middle;\n",
       "    }\n",
       "\n",
       "    .dataframe tbody tr th {\n",
       "        vertical-align: top;\n",
       "    }\n",
       "\n",
       "    .dataframe thead th {\n",
       "        text-align: right;\n",
       "    }\n",
       "</style>\n",
       "<table border=\"1\" class=\"dataframe\">\n",
       "  <thead>\n",
       "    <tr style=\"text-align: right;\">\n",
       "      <th>survived</th>\n",
       "      <th>0</th>\n",
       "      <th>1</th>\n",
       "    </tr>\n",
       "    <tr>\n",
       "      <th>pclass</th>\n",
       "      <th></th>\n",
       "      <th></th>\n",
       "    </tr>\n",
       "  </thead>\n",
       "  <tbody>\n",
       "    <tr>\n",
       "      <th>1</th>\n",
       "      <td>123</td>\n",
       "      <td>200</td>\n",
       "    </tr>\n",
       "    <tr>\n",
       "      <th>2</th>\n",
       "      <td>158</td>\n",
       "      <td>119</td>\n",
       "    </tr>\n",
       "    <tr>\n",
       "      <th>3</th>\n",
       "      <td>528</td>\n",
       "      <td>181</td>\n",
       "    </tr>\n",
       "  </tbody>\n",
       "</table>\n",
       "</div>"
      ],
      "text/plain": [
       "survived    0    1\n",
       "pclass            \n",
       "1         123  200\n",
       "2         158  119\n",
       "3         528  181"
      ]
     },
     "execution_count": 10,
     "metadata": {},
     "output_type": "execute_result"
    }
   ],
   "source": [
    "#dfPclass.groupby(['pclass','survived'])['passengerid'].count()\n",
    "pd.crosstab(dfPclass.pclass, dfPclass.survived)"
   ]
  },
  {
   "cell_type": "code",
   "execution_count": 11,
   "metadata": {},
   "outputs": [
    {
     "data": {
      "text/html": [
       "<div>\n",
       "<style scoped>\n",
       "    .dataframe tbody tr th:only-of-type {\n",
       "        vertical-align: middle;\n",
       "    }\n",
       "\n",
       "    .dataframe tbody tr th {\n",
       "        vertical-align: top;\n",
       "    }\n",
       "\n",
       "    .dataframe thead th {\n",
       "        text-align: right;\n",
       "    }\n",
       "</style>\n",
       "<table border=\"1\" class=\"dataframe\">\n",
       "  <thead>\n",
       "    <tr style=\"text-align: right;\">\n",
       "      <th></th>\n",
       "      <th>pclass</th>\n",
       "      <th>classCnt</th>\n",
       "      <th>survivedCnt</th>\n",
       "      <th>notSurvivedCnt</th>\n",
       "      <th>percentSurvived</th>\n",
       "    </tr>\n",
       "  </thead>\n",
       "  <tbody>\n",
       "    <tr>\n",
       "      <th>0</th>\n",
       "      <td>1</td>\n",
       "      <td>323</td>\n",
       "      <td>200</td>\n",
       "      <td>123</td>\n",
       "      <td>61.919505</td>\n",
       "    </tr>\n",
       "    <tr>\n",
       "      <th>1</th>\n",
       "      <td>2</td>\n",
       "      <td>277</td>\n",
       "      <td>119</td>\n",
       "      <td>158</td>\n",
       "      <td>42.960289</td>\n",
       "    </tr>\n",
       "    <tr>\n",
       "      <th>2</th>\n",
       "      <td>3</td>\n",
       "      <td>709</td>\n",
       "      <td>181</td>\n",
       "      <td>528</td>\n",
       "      <td>25.528914</td>\n",
       "    </tr>\n",
       "  </tbody>\n",
       "</table>\n",
       "</div>"
      ],
      "text/plain": [
       "   pclass  classCnt  survivedCnt  notSurvivedCnt  percentSurvived\n",
       "0       1       323          200             123        61.919505\n",
       "1       2       277          119             158        42.960289\n",
       "2       3       709          181             528        25.528914"
      ]
     },
     "execution_count": 11,
     "metadata": {},
     "output_type": "execute_result"
    }
   ],
   "source": [
    "temp2 = dfPclass.groupby('pclass',as_index = False)['survived'].sum()\n",
    "temp3 = dfPclass.where(dfPclass.survived == 0).groupby('pclass',as_index = False)['survived'].count()\n",
    "dfPclassAgg = pd.DataFrame({'pclass' : temp2.pclass,'classCnt' : temp.passengerid, 'survivedCnt' : temp2.survived, \\\n",
    "                    'notSurvivedCnt' : temp3.survived, 'percentSurvived': (temp2.survived/temp.passengerid) * 100})\n",
    "dfPclassAgg"
   ]
  },
  {
   "cell_type": "code",
   "execution_count": 12,
   "metadata": {},
   "outputs": [
    {
     "data": {
      "image/png": "[encoded data removed]",
      "text/plain": [
       "<Figure size 432x288 with 1 Axes>"
      ]
     },
     "metadata": {
      "needs_background": "light"
     },
     "output_type": "display_data"
    }
   ],
   "source": [
    "a = dfPclassAgg.plot(x='pclass', y=['classCnt','survivedCnt','notSurvivedCnt','percentSurvived'], kind='bar',title='Figure 3')\n",
    "a.title.set_size(18)"
   ]
  },
  {
   "cell_type": "code",
   "execution_count": 13,
   "metadata": {},
   "outputs": [
    {
     "data": {
      "text/plain": [
       "Text(0.5, 1.0, 'Figure 4')"
      ]
     },
     "execution_count": 13,
     "metadata": {},
     "output_type": "execute_result"
    },
    {
     "data": {
      "image/png": "[encoded data removed]",
      "text/plain": [
       "<Figure size 432x288 with 1 Axes>"
      ]
     },
     "metadata": {
      "needs_background": "light"
     },
     "output_type": "display_data"
    }
   ],
   "source": [
    "sns.barplot(x = 'pclass', y = 'percentSurvived', data = dfPclassAgg)\\\n",
    ".set_title( 'Figure 4', fontdict= { 'fontsize': 18, 'fontweight':'bold'})"
   ]
  },
  {
   "cell_type": "code",
   "execution_count": 14,
   "metadata": {},
   "outputs": [
    {
     "name": "stdout",
     "output_type": "stream",
     "text": [
      "0.0\n",
      "512.3292\n"
     ]
    },
    {
     "data": {
      "text/html": [
       "<div>\n",
       "<style scoped>\n",
       "    .dataframe tbody tr th:only-of-type {\n",
       "        vertical-align: middle;\n",
       "    }\n",
       "\n",
       "    .dataframe tbody tr th {\n",
       "        vertical-align: top;\n",
       "    }\n",
       "\n",
       "    .dataframe thead th {\n",
       "        text-align: right;\n",
       "    }\n",
       "</style>\n",
       "<table border=\"1\" class=\"dataframe\">\n",
       "  <thead>\n",
       "    <tr style=\"text-align: right;\">\n",
       "      <th></th>\n",
       "      <th>fareRange</th>\n",
       "      <th>passengerid</th>\n",
       "    </tr>\n",
       "  </thead>\n",
       "  <tbody>\n",
       "    <tr>\n",
       "      <th>0</th>\n",
       "      <td>(-0.001, 7.896]</td>\n",
       "      <td>337</td>\n",
       "    </tr>\n",
       "    <tr>\n",
       "      <th>1</th>\n",
       "      <td>(7.896, 14.454]</td>\n",
       "      <td>320</td>\n",
       "    </tr>\n",
       "    <tr>\n",
       "      <th>2</th>\n",
       "      <td>(14.454, 31.275]</td>\n",
       "      <td>328</td>\n",
       "    </tr>\n",
       "    <tr>\n",
       "      <th>3</th>\n",
       "      <td>(31.275, 512.329]</td>\n",
       "      <td>323</td>\n",
       "    </tr>\n",
       "  </tbody>\n",
       "</table>\n",
       "</div>"
      ],
      "text/plain": [
       "           fareRange  passengerid\n",
       "0    (-0.001, 7.896]          337\n",
       "1    (7.896, 14.454]          320\n",
       "2   (14.454, 31.275]          328\n",
       "3  (31.275, 512.329]          323"
      ]
     },
     "execution_count": 14,
     "metadata": {},
     "output_type": "execute_result"
    }
   ],
   "source": [
    "dfFare = df[['passengerid', 'survived', 'fare']].copy()\n",
    "print(dfFare.fare.min())\n",
    "print(dfFare.fare.max())\n",
    "dfFare['fareRange'] = pd.qcut(df['fare'],4)\n",
    "dfFareCnt = dfFare.groupby('fareRange',as_index = False)['passengerid'].count()\n",
    "dfFareCnt"
   ]
  },
  {
   "cell_type": "code",
   "execution_count": 15,
   "metadata": {},
   "outputs": [
    {
     "data": {
      "text/html": [
       "<div>\n",
       "<style scoped>\n",
       "    .dataframe tbody tr th:only-of-type {\n",
       "        vertical-align: middle;\n",
       "    }\n",
       "\n",
       "    .dataframe tbody tr th {\n",
       "        vertical-align: top;\n",
       "    }\n",
       "\n",
       "    .dataframe thead th {\n",
       "        text-align: right;\n",
       "    }\n",
       "</style>\n",
       "<table border=\"1\" class=\"dataframe\">\n",
       "  <thead>\n",
       "    <tr style=\"text-align: right;\">\n",
       "      <th>survived</th>\n",
       "      <th>0</th>\n",
       "      <th>1</th>\n",
       "    </tr>\n",
       "    <tr>\n",
       "      <th>fareRange</th>\n",
       "      <th></th>\n",
       "      <th></th>\n",
       "    </tr>\n",
       "  </thead>\n",
       "  <tbody>\n",
       "    <tr>\n",
       "      <th>(-0.001, 7.896]</th>\n",
       "      <td>260</td>\n",
       "      <td>77</td>\n",
       "    </tr>\n",
       "    <tr>\n",
       "      <th>(7.896, 14.454]</th>\n",
       "      <td>229</td>\n",
       "      <td>91</td>\n",
       "    </tr>\n",
       "    <tr>\n",
       "      <th>(14.454, 31.275]</th>\n",
       "      <td>185</td>\n",
       "      <td>143</td>\n",
       "    </tr>\n",
       "    <tr>\n",
       "      <th>(31.275, 512.329]</th>\n",
       "      <td>134</td>\n",
       "      <td>189</td>\n",
       "    </tr>\n",
       "  </tbody>\n",
       "</table>\n",
       "</div>"
      ],
      "text/plain": [
       "survived             0    1\n",
       "fareRange                  \n",
       "(-0.001, 7.896]    260   77\n",
       "(7.896, 14.454]    229   91\n",
       "(14.454, 31.275]   185  143\n",
       "(31.275, 512.329]  134  189"
      ]
     },
     "execution_count": 15,
     "metadata": {},
     "output_type": "execute_result"
    }
   ],
   "source": [
    "pd.crosstab(dfFare.fareRange,dfFare.survived)"
   ]
  },
  {
   "cell_type": "code",
   "execution_count": 16,
   "metadata": {},
   "outputs": [
    {
     "data": {
      "text/html": [
       "<div>\n",
       "<style scoped>\n",
       "    .dataframe tbody tr th:only-of-type {\n",
       "        vertical-align: middle;\n",
       "    }\n",
       "\n",
       "    .dataframe tbody tr th {\n",
       "        vertical-align: top;\n",
       "    }\n",
       "\n",
       "    .dataframe thead th {\n",
       "        text-align: right;\n",
       "    }\n",
       "</style>\n",
       "<table border=\"1\" class=\"dataframe\">\n",
       "  <thead>\n",
       "    <tr style=\"text-align: right;\">\n",
       "      <th></th>\n",
       "      <th>fareRange</th>\n",
       "      <th>fareRangeCnt</th>\n",
       "      <th>survivedCnt</th>\n",
       "      <th>survivedPrcnt</th>\n",
       "    </tr>\n",
       "  </thead>\n",
       "  <tbody>\n",
       "    <tr>\n",
       "      <th>0</th>\n",
       "      <td>(-0.001, 7.896]</td>\n",
       "      <td>337</td>\n",
       "      <td>77</td>\n",
       "      <td>22.848665</td>\n",
       "    </tr>\n",
       "    <tr>\n",
       "      <th>1</th>\n",
       "      <td>(7.896, 14.454]</td>\n",
       "      <td>320</td>\n",
       "      <td>91</td>\n",
       "      <td>28.437500</td>\n",
       "    </tr>\n",
       "    <tr>\n",
       "      <th>2</th>\n",
       "      <td>(14.454, 31.275]</td>\n",
       "      <td>328</td>\n",
       "      <td>143</td>\n",
       "      <td>43.597561</td>\n",
       "    </tr>\n",
       "    <tr>\n",
       "      <th>3</th>\n",
       "      <td>(31.275, 512.329]</td>\n",
       "      <td>323</td>\n",
       "      <td>189</td>\n",
       "      <td>58.513932</td>\n",
       "    </tr>\n",
       "  </tbody>\n",
       "</table>\n",
       "</div>"
      ],
      "text/plain": [
       "           fareRange  fareRangeCnt  survivedCnt  survivedPrcnt\n",
       "0    (-0.001, 7.896]           337           77      22.848665\n",
       "1    (7.896, 14.454]           320           91      28.437500\n",
       "2   (14.454, 31.275]           328          143      43.597561\n",
       "3  (31.275, 512.329]           323          189      58.513932"
      ]
     },
     "execution_count": 16,
     "metadata": {},
     "output_type": "execute_result"
    }
   ],
   "source": [
    "dfFareSurvivedCnt = dfFare.groupby('fareRange',as_index = False)['survived'].sum()\n",
    "dfFareAgg = pd.DataFrame({'fareRange':dfFareCnt['fareRange'], 'fareRangeCnt' : dfFareCnt.passengerid, 'survivedCnt' : dfFareSurvivedCnt.survived,\\\n",
    "                          'survivedPrcnt' : (dfFareSurvivedCnt.survived/dfFareCnt.passengerid) * 100 })\n",
    "dfFareAgg"
   ]
  },
  {
   "cell_type": "code",
   "execution_count": 17,
   "metadata": {},
   "outputs": [
    {
     "data": {
      "text/plain": [
       "Text(0.5, 1.0, 'Figure 5')"
      ]
     },
     "execution_count": 17,
     "metadata": {},
     "output_type": "execute_result"
    },
    {
     "data": {
      "image/png": "[encoded data removed]",
      "text/plain": [
       "<Figure size 432x288 with 1 Axes>"
      ]
     },
     "metadata": {
      "needs_background": "light"
     },
     "output_type": "display_data"
    }
   ],
   "source": [
    "dfFareAggMelt = dfFareAgg.melt('fareRange')\n",
    "sns.barplot(x = dfFareAggMelt.fareRange, y = dfFareAggMelt.value, hue = dfFareAggMelt.variable)\\\n",
    ".set_title( 'Figure 5', fontdict= { 'fontsize': 18, 'fontweight':'bold'})"
   ]
  },
  {
   "cell_type": "code",
   "execution_count": 18,
   "metadata": {},
   "outputs": [
    {
     "data": {
      "text/plain": [
       "Text(0.5, 1.0, 'Figure 6')"
      ]
     },
     "execution_count": 18,
     "metadata": {},
     "output_type": "execute_result"
    },
    {
     "data": {
      "image/png": "[encoded data removed]",
      "text/plain": [
       "<Figure size 432x288 with 1 Axes>"
      ]
     },
     "metadata": {
      "needs_background": "light"
     },
     "output_type": "display_data"
    }
   ],
   "source": [
    "sns.barplot(x = dfFareAgg.fareRange, y = dfFareAgg.survivedPrcnt )\\\n",
    ".set_title( 'Figure 6', fontdict= { 'fontsize': 18, 'fontweight':'bold'})"
   ]
  },
  {
   "cell_type": "code",
   "execution_count": 19,
   "metadata": {},
   "outputs": [
    {
     "name": "stdout",
     "output_type": "stream",
     "text": [
      "0.1667\n",
      "80.0\n"
     ]
    },
    {
     "data": {
      "text/html": [
       "<div>\n",
       "<style scoped>\n",
       "    .dataframe tbody tr th:only-of-type {\n",
       "        vertical-align: middle;\n",
       "    }\n",
       "\n",
       "    .dataframe tbody tr th {\n",
       "        vertical-align: top;\n",
       "    }\n",
       "\n",
       "    .dataframe thead th {\n",
       "        text-align: right;\n",
       "    }\n",
       "</style>\n",
       "<table border=\"1\" class=\"dataframe\">\n",
       "  <thead>\n",
       "    <tr style=\"text-align: right;\">\n",
       "      <th></th>\n",
       "      <th>ageRange</th>\n",
       "      <th>passengerid</th>\n",
       "    </tr>\n",
       "  </thead>\n",
       "  <tbody>\n",
       "    <tr>\n",
       "      <th>0</th>\n",
       "      <td>(0.0869, 20.125]</td>\n",
       "      <td>248</td>\n",
       "    </tr>\n",
       "    <tr>\n",
       "      <th>1</th>\n",
       "      <td>(20.125, 40.083]</td>\n",
       "      <td>571</td>\n",
       "    </tr>\n",
       "    <tr>\n",
       "      <th>2</th>\n",
       "      <td>(40.083, 60.042]</td>\n",
       "      <td>194</td>\n",
       "    </tr>\n",
       "    <tr>\n",
       "      <th>3</th>\n",
       "      <td>(60.042, 80.0]</td>\n",
       "      <td>33</td>\n",
       "    </tr>\n",
       "  </tbody>\n",
       "</table>\n",
       "</div>"
      ],
      "text/plain": [
       "           ageRange  passengerid\n",
       "0  (0.0869, 20.125]          248\n",
       "1  (20.125, 40.083]          571\n",
       "2  (40.083, 60.042]          194\n",
       "3    (60.042, 80.0]           33"
      ]
     },
     "execution_count": 19,
     "metadata": {},
     "output_type": "execute_result"
    }
   ],
   "source": [
    "dfAge = df[['passengerid', 'survived', 'age']].dropna().copy()\n",
    "print(df.age.min())\n",
    "print(df.age.max())\n",
    "dfAge['ageRange'] = pd.cut(df['age'],4)\n",
    "dfAgeCnt = dfAge.groupby('ageRange',as_index = False)['passengerid'].count()\n",
    "dfAgeCnt"
   ]
  },
  {
   "cell_type": "code",
   "execution_count": 20,
   "metadata": {},
   "outputs": [
    {
     "data": {
      "text/html": [
       "<div>\n",
       "<style scoped>\n",
       "    .dataframe tbody tr th:only-of-type {\n",
       "        vertical-align: middle;\n",
       "    }\n",
       "\n",
       "    .dataframe tbody tr th {\n",
       "        vertical-align: top;\n",
       "    }\n",
       "\n",
       "    .dataframe thead th {\n",
       "        text-align: right;\n",
       "    }\n",
       "</style>\n",
       "<table border=\"1\" class=\"dataframe\">\n",
       "  <thead>\n",
       "    <tr style=\"text-align: right;\">\n",
       "      <th></th>\n",
       "      <th>ageRange</th>\n",
       "      <th>ageRangeCnt</th>\n",
       "      <th>survivedCnt</th>\n",
       "      <th>survivedPrcnt</th>\n",
       "    </tr>\n",
       "  </thead>\n",
       "  <tbody>\n",
       "    <tr>\n",
       "      <th>0</th>\n",
       "      <td>(0.0869, 20.125]</td>\n",
       "      <td>248</td>\n",
       "      <td>114</td>\n",
       "      <td>45.967742</td>\n",
       "    </tr>\n",
       "    <tr>\n",
       "      <th>1</th>\n",
       "      <td>(20.125, 40.083]</td>\n",
       "      <td>571</td>\n",
       "      <td>223</td>\n",
       "      <td>39.054291</td>\n",
       "    </tr>\n",
       "    <tr>\n",
       "      <th>2</th>\n",
       "      <td>(40.083, 60.042]</td>\n",
       "      <td>194</td>\n",
       "      <td>82</td>\n",
       "      <td>42.268041</td>\n",
       "    </tr>\n",
       "    <tr>\n",
       "      <th>3</th>\n",
       "      <td>(60.042, 80.0]</td>\n",
       "      <td>33</td>\n",
       "      <td>8</td>\n",
       "      <td>24.242424</td>\n",
       "    </tr>\n",
       "  </tbody>\n",
       "</table>\n",
       "</div>"
      ],
      "text/plain": [
       "           ageRange  ageRangeCnt  survivedCnt  survivedPrcnt\n",
       "0  (0.0869, 20.125]          248          114      45.967742\n",
       "1  (20.125, 40.083]          571          223      39.054291\n",
       "2  (40.083, 60.042]          194           82      42.268041\n",
       "3    (60.042, 80.0]           33            8      24.242424"
      ]
     },
     "execution_count": 20,
     "metadata": {},
     "output_type": "execute_result"
    }
   ],
   "source": [
    "dfAgeSurvivedCnt = dfAge.groupby('ageRange',as_index = False)['survived'].sum()\n",
    "dfAgeAgg = pd.DataFrame({'ageRange':dfAgeCnt['ageRange'], 'ageRangeCnt' : dfAgeCnt.passengerid, 'survivedCnt' : dfAgeSurvivedCnt.survived,\\\n",
    "                           'survivedPrcnt' : (dfAgeSurvivedCnt.survived/dfAgeCnt.passengerid) * 100 })\n",
    "dfAgeAgg"
   ]
  },
  {
   "cell_type": "code",
   "execution_count": 21,
   "metadata": {},
   "outputs": [
    {
     "data": {
      "text/plain": [
       "Text(0.5, 1.0, 'Figure 7')"
      ]
     },
     "execution_count": 21,
     "metadata": {},
     "output_type": "execute_result"
    },
    {
     "data": {
      "image/png": "[encoded data removed]",
      "text/plain": [
       "<Figure size 432x288 with 1 Axes>"
      ]
     },
     "metadata": {
      "needs_background": "light"
     },
     "output_type": "display_data"
    }
   ],
   "source": [
    "dfAgeAggMelt = dfAgeAgg.melt('ageRange')\n",
    "sns.barplot(x = dfAgeAggMelt.ageRange, y = dfAgeAggMelt.value, hue = dfAgeAggMelt.variable )\\\n",
    ".set_title( 'Figure 7', fontdict= { 'fontsize': 18, 'fontweight':'bold'})"
   ]
  },
  {
   "cell_type": "code",
   "execution_count": 22,
   "metadata": {},
   "outputs": [
    {
     "data": {
      "text/plain": [
       "Text(0.5, 1.0, 'Figure 8')"
      ]
     },
     "execution_count": 22,
     "metadata": {},
     "output_type": "execute_result"
    },
    {
     "data": {
      "image/png": "[encoded data removed]",
      "text/plain": [
       "<Figure size 432x288 with 1 Axes>"
      ]
     },
     "metadata": {
      "needs_background": "light"
     },
     "output_type": "display_data"
    }
   ],
   "source": [
    "sns.barplot(x = 'ageRange',y = 'survivedPrcnt', data = dfAgeAgg)\\\n",
    ".set_title( 'Figure 8', fontdict= { 'fontsize': 18, 'fontweight':'bold'})"
   ]
  },
  {
   "cell_type": "code",
   "execution_count": 23,
   "metadata": {},
   "outputs": [
    {
     "data": {
      "text/html": [
       "<div>\n",
       "<style scoped>\n",
       "    .dataframe tbody tr th:only-of-type {\n",
       "        vertical-align: middle;\n",
       "    }\n",
       "\n",
       "    .dataframe tbody tr th {\n",
       "        vertical-align: top;\n",
       "    }\n",
       "\n",
       "    .dataframe thead th {\n",
       "        text-align: right;\n",
       "    }\n",
       "</style>\n",
       "<table border=\"1\" class=\"dataframe\">\n",
       "  <thead>\n",
       "    <tr style=\"text-align: right;\">\n",
       "      <th></th>\n",
       "      <th>sibsp</th>\n",
       "      <th>passengerid</th>\n",
       "    </tr>\n",
       "  </thead>\n",
       "  <tbody>\n",
       "    <tr>\n",
       "      <th>0</th>\n",
       "      <td>0</td>\n",
       "      <td>891</td>\n",
       "    </tr>\n",
       "    <tr>\n",
       "      <th>1</th>\n",
       "      <td>1</td>\n",
       "      <td>319</td>\n",
       "    </tr>\n",
       "    <tr>\n",
       "      <th>2</th>\n",
       "      <td>2</td>\n",
       "      <td>42</td>\n",
       "    </tr>\n",
       "    <tr>\n",
       "      <th>3</th>\n",
       "      <td>3</td>\n",
       "      <td>20</td>\n",
       "    </tr>\n",
       "    <tr>\n",
       "      <th>4</th>\n",
       "      <td>4</td>\n",
       "      <td>22</td>\n",
       "    </tr>\n",
       "    <tr>\n",
       "      <th>5</th>\n",
       "      <td>5</td>\n",
       "      <td>6</td>\n",
       "    </tr>\n",
       "    <tr>\n",
       "      <th>6</th>\n",
       "      <td>8</td>\n",
       "      <td>9</td>\n",
       "    </tr>\n",
       "  </tbody>\n",
       "</table>\n",
       "</div>"
      ],
      "text/plain": [
       "   sibsp  passengerid\n",
       "0      0          891\n",
       "1      1          319\n",
       "2      2           42\n",
       "3      3           20\n",
       "4      4           22\n",
       "5      5            6\n",
       "6      8            9"
      ]
     },
     "execution_count": 23,
     "metadata": {},
     "output_type": "execute_result"
    }
   ],
   "source": [
    "dfSibsp = df[['passengerid','survived','sibsp']]\n",
    "#dfSibsp['sibspCode'] = 0\n",
    "#dfSibsp.loc['sibsp' != 0,'sibspCode'] = 1\n",
    "dfSibsp.head()\n",
    "sibspCnt = dfSibsp.groupby('sibsp',as_index = False)['passengerid'].count()\n",
    "sibspCnt"
   ]
  },
  {
   "cell_type": "markdown",
   "metadata": {},
   "source": [
    "__<h3 align='center'> Table -  Siblings and Spouse </h3>__"
   ]
  },
  {
   "cell_type": "code",
   "execution_count": 24,
   "metadata": {},
   "outputs": [
    {
     "data": {
      "text/html": [
       "<div>\n",
       "<style scoped>\n",
       "    .dataframe tbody tr th:only-of-type {\n",
       "        vertical-align: middle;\n",
       "    }\n",
       "\n",
       "    .dataframe tbody tr th {\n",
       "        vertical-align: top;\n",
       "    }\n",
       "\n",
       "    .dataframe thead th {\n",
       "        text-align: right;\n",
       "    }\n",
       "</style>\n",
       "<table border=\"1\" class=\"dataframe\">\n",
       "  <thead>\n",
       "    <tr style=\"text-align: right;\">\n",
       "      <th></th>\n",
       "      <th>sibsp</th>\n",
       "      <th>sibspCnt</th>\n",
       "      <th>survivedCnt</th>\n",
       "      <th>notSurvivedCnt</th>\n",
       "      <th>percentSurvived</th>\n",
       "    </tr>\n",
       "  </thead>\n",
       "  <tbody>\n",
       "    <tr>\n",
       "      <th>0</th>\n",
       "      <td>0</td>\n",
       "      <td>891</td>\n",
       "      <td>309</td>\n",
       "      <td>582</td>\n",
       "      <td>34.680135</td>\n",
       "    </tr>\n",
       "    <tr>\n",
       "      <th>1</th>\n",
       "      <td>1</td>\n",
       "      <td>319</td>\n",
       "      <td>163</td>\n",
       "      <td>156</td>\n",
       "      <td>51.097179</td>\n",
       "    </tr>\n",
       "    <tr>\n",
       "      <th>2</th>\n",
       "      <td>2</td>\n",
       "      <td>42</td>\n",
       "      <td>19</td>\n",
       "      <td>23</td>\n",
       "      <td>45.238095</td>\n",
       "    </tr>\n",
       "    <tr>\n",
       "      <th>3</th>\n",
       "      <td>3</td>\n",
       "      <td>20</td>\n",
       "      <td>6</td>\n",
       "      <td>14</td>\n",
       "      <td>30.000000</td>\n",
       "    </tr>\n",
       "    <tr>\n",
       "      <th>4</th>\n",
       "      <td>4</td>\n",
       "      <td>22</td>\n",
       "      <td>3</td>\n",
       "      <td>19</td>\n",
       "      <td>13.636364</td>\n",
       "    </tr>\n",
       "    <tr>\n",
       "      <th>5</th>\n",
       "      <td>5</td>\n",
       "      <td>6</td>\n",
       "      <td>0</td>\n",
       "      <td>6</td>\n",
       "      <td>0.000000</td>\n",
       "    </tr>\n",
       "    <tr>\n",
       "      <th>6</th>\n",
       "      <td>8</td>\n",
       "      <td>9</td>\n",
       "      <td>0</td>\n",
       "      <td>9</td>\n",
       "      <td>0.000000</td>\n",
       "    </tr>\n",
       "  </tbody>\n",
       "</table>\n",
       "</div>"
      ],
      "text/plain": [
       "   sibsp  sibspCnt  survivedCnt  notSurvivedCnt  percentSurvived\n",
       "0      0       891          309             582        34.680135\n",
       "1      1       319          163             156        51.097179\n",
       "2      2        42           19              23        45.238095\n",
       "3      3        20            6              14        30.000000\n",
       "4      4        22            3              19        13.636364\n",
       "5      5         6            0               6         0.000000\n",
       "6      8         9            0               9         0.000000"
      ]
     },
     "execution_count": 24,
     "metadata": {},
     "output_type": "execute_result"
    }
   ],
   "source": [
    "survivedCntbySibsp = dfSibsp.groupby('sibsp',as_index = False)['survived'].sum()\n",
    "notSurvivedCntbySibsp = dfSibsp.where(dfSibsp['survived'] == 0).groupby('sibsp',as_index = False)['survived'].count()\n",
    "dfSibspAgg = pd.DataFrame({'sibsp' : sibspCnt.sibsp,'sibspCnt' : sibspCnt.passengerid, 'survivedCnt' : survivedCntbySibsp.survived, \\\n",
    "                    'notSurvivedCnt' : notSurvivedCntbySibsp.survived, 'percentSurvived': (survivedCntbySibsp.survived/sibspCnt.passengerid) * 100})\n",
    "dfSibspAgg"
   ]
  },
  {
   "cell_type": "code",
   "execution_count": 25,
   "metadata": {},
   "outputs": [],
   "source": [
    "#dfSibspAggMelt = dfSibspAgg.melt('sibsp')\n",
    "#sns.barplot(x = 'sibsp', y = 'value', hue = 'variable', data = dfSibspAggMelt )"
   ]
  },
  {
   "cell_type": "code",
   "execution_count": 26,
   "metadata": {},
   "outputs": [],
   "source": [
    "#sns.barplot(x = 'sibsp',y = 'percentSurvived', data = dfSibspAgg)"
   ]
  },
  {
   "cell_type": "code",
   "execution_count": 27,
   "metadata": {},
   "outputs": [
    {
     "data": {
      "text/html": [
       "<div>\n",
       "<style scoped>\n",
       "    .dataframe tbody tr th:only-of-type {\n",
       "        vertical-align: middle;\n",
       "    }\n",
       "\n",
       "    .dataframe tbody tr th {\n",
       "        vertical-align: top;\n",
       "    }\n",
       "\n",
       "    .dataframe thead th {\n",
       "        text-align: right;\n",
       "    }\n",
       "</style>\n",
       "<table border=\"1\" class=\"dataframe\">\n",
       "  <thead>\n",
       "    <tr style=\"text-align: right;\">\n",
       "      <th></th>\n",
       "      <th>parch</th>\n",
       "      <th>passengerid</th>\n",
       "    </tr>\n",
       "  </thead>\n",
       "  <tbody>\n",
       "    <tr>\n",
       "      <th>0</th>\n",
       "      <td>0</td>\n",
       "      <td>1002</td>\n",
       "    </tr>\n",
       "    <tr>\n",
       "      <th>1</th>\n",
       "      <td>1</td>\n",
       "      <td>170</td>\n",
       "    </tr>\n",
       "    <tr>\n",
       "      <th>2</th>\n",
       "      <td>2</td>\n",
       "      <td>113</td>\n",
       "    </tr>\n",
       "    <tr>\n",
       "      <th>3</th>\n",
       "      <td>3</td>\n",
       "      <td>8</td>\n",
       "    </tr>\n",
       "    <tr>\n",
       "      <th>4</th>\n",
       "      <td>4</td>\n",
       "      <td>6</td>\n",
       "    </tr>\n",
       "    <tr>\n",
       "      <th>5</th>\n",
       "      <td>5</td>\n",
       "      <td>6</td>\n",
       "    </tr>\n",
       "    <tr>\n",
       "      <th>6</th>\n",
       "      <td>6</td>\n",
       "      <td>2</td>\n",
       "    </tr>\n",
       "    <tr>\n",
       "      <th>7</th>\n",
       "      <td>9</td>\n",
       "      <td>2</td>\n",
       "    </tr>\n",
       "  </tbody>\n",
       "</table>\n",
       "</div>"
      ],
      "text/plain": [
       "   parch  passengerid\n",
       "0      0         1002\n",
       "1      1          170\n",
       "2      2          113\n",
       "3      3            8\n",
       "4      4            6\n",
       "5      5            6\n",
       "6      6            2\n",
       "7      9            2"
      ]
     },
     "execution_count": 27,
     "metadata": {},
     "output_type": "execute_result"
    }
   ],
   "source": [
    "dfParch = df[['passengerid','survived','parch']]\n",
    "parchCnt = dfParch.groupby('parch',as_index = False)['passengerid'].count()\n",
    "parchCnt"
   ]
  },
  {
   "cell_type": "markdown",
   "metadata": {},
   "source": [
    "__<h3 align='center'> Table -  Parents and Children </h3>__"
   ]
  },
  {
   "cell_type": "code",
   "execution_count": 28,
   "metadata": {},
   "outputs": [
    {
     "data": {
      "text/html": [
       "<div>\n",
       "<style scoped>\n",
       "    .dataframe tbody tr th:only-of-type {\n",
       "        vertical-align: middle;\n",
       "    }\n",
       "\n",
       "    .dataframe tbody tr th {\n",
       "        vertical-align: top;\n",
       "    }\n",
       "\n",
       "    .dataframe thead th {\n",
       "        text-align: right;\n",
       "    }\n",
       "</style>\n",
       "<table border=\"1\" class=\"dataframe\">\n",
       "  <thead>\n",
       "    <tr style=\"text-align: right;\">\n",
       "      <th></th>\n",
       "      <th>parch</th>\n",
       "      <th>parchCnt</th>\n",
       "      <th>survivedCnt</th>\n",
       "      <th>notSurvivedCnt</th>\n",
       "      <th>percentSurvived</th>\n",
       "    </tr>\n",
       "  </thead>\n",
       "  <tbody>\n",
       "    <tr>\n",
       "      <th>0</th>\n",
       "      <td>0</td>\n",
       "      <td>1002</td>\n",
       "      <td>336</td>\n",
       "      <td>666</td>\n",
       "      <td>33.532934</td>\n",
       "    </tr>\n",
       "    <tr>\n",
       "      <th>1</th>\n",
       "      <td>1</td>\n",
       "      <td>170</td>\n",
       "      <td>100</td>\n",
       "      <td>70</td>\n",
       "      <td>58.823529</td>\n",
       "    </tr>\n",
       "    <tr>\n",
       "      <th>2</th>\n",
       "      <td>2</td>\n",
       "      <td>113</td>\n",
       "      <td>57</td>\n",
       "      <td>56</td>\n",
       "      <td>50.442478</td>\n",
       "    </tr>\n",
       "    <tr>\n",
       "      <th>3</th>\n",
       "      <td>3</td>\n",
       "      <td>8</td>\n",
       "      <td>5</td>\n",
       "      <td>3</td>\n",
       "      <td>62.500000</td>\n",
       "    </tr>\n",
       "    <tr>\n",
       "      <th>4</th>\n",
       "      <td>4</td>\n",
       "      <td>6</td>\n",
       "      <td>1</td>\n",
       "      <td>5</td>\n",
       "      <td>16.666667</td>\n",
       "    </tr>\n",
       "    <tr>\n",
       "      <th>5</th>\n",
       "      <td>5</td>\n",
       "      <td>6</td>\n",
       "      <td>1</td>\n",
       "      <td>5</td>\n",
       "      <td>16.666667</td>\n",
       "    </tr>\n",
       "    <tr>\n",
       "      <th>6</th>\n",
       "      <td>6</td>\n",
       "      <td>2</td>\n",
       "      <td>0</td>\n",
       "      <td>2</td>\n",
       "      <td>0.000000</td>\n",
       "    </tr>\n",
       "    <tr>\n",
       "      <th>7</th>\n",
       "      <td>9</td>\n",
       "      <td>2</td>\n",
       "      <td>0</td>\n",
       "      <td>2</td>\n",
       "      <td>0.000000</td>\n",
       "    </tr>\n",
       "  </tbody>\n",
       "</table>\n",
       "</div>"
      ],
      "text/plain": [
       "   parch  parchCnt  survivedCnt  notSurvivedCnt  percentSurvived\n",
       "0      0      1002          336             666        33.532934\n",
       "1      1       170          100              70        58.823529\n",
       "2      2       113           57              56        50.442478\n",
       "3      3         8            5               3        62.500000\n",
       "4      4         6            1               5        16.666667\n",
       "5      5         6            1               5        16.666667\n",
       "6      6         2            0               2         0.000000\n",
       "7      9         2            0               2         0.000000"
      ]
     },
     "execution_count": 28,
     "metadata": {},
     "output_type": "execute_result"
    }
   ],
   "source": [
    "survivedCntbyParch = dfParch.groupby('parch',as_index = False)['survived'].sum()\n",
    "notSurvivedCntbyParch = dfParch.where(dfParch['survived'] == 0).groupby('parch',as_index = False)['survived'].count()\n",
    "dfParchAgg = pd.DataFrame({'parch' : parchCnt.parch,'parchCnt' : parchCnt.passengerid, 'survivedCnt' : survivedCntbyParch.survived, \\\n",
    "                    'notSurvivedCnt' : notSurvivedCntbyParch.survived, 'percentSurvived': (survivedCntbyParch.survived/parchCnt.passengerid) * 100})\n",
    "dfParchAgg"
   ]
  },
  {
   "cell_type": "code",
   "execution_count": 29,
   "metadata": {},
   "outputs": [],
   "source": [
    "dfcorr = df[['sex','pclass','fare','parch','age','sibsp','survived']].copy()\n",
    "dfcorr['sex'] = dfcorr['sex'].map( {'female': 0, 'male': 1} ).astype(int)"
   ]
  },
  {
   "cell_type": "code",
   "execution_count": 30,
   "metadata": {},
   "outputs": [
    {
     "data": {
      "text/plain": [
       "Text(0.5, 1.0, 'Figure 9')"
      ]
     },
     "execution_count": 30,
     "metadata": {},
     "output_type": "execute_result"
    },
    {
     "data": {
      "image/png": "[encoded data removed]",
      "text/plain": [
       "<Figure size 432x288 with 2 Axes>"
      ]
     },
     "metadata": {
      "needs_background": "light"
     },
     "output_type": "display_data"
    }
   ],
   "source": [
    "sns.heatmap(dfcorr.corr(),annot = True)\\\n",
    ".set_title( 'Figure 9', fontdict= { 'fontsize': 18, 'fontweight':'bold'})"
   ]
  },
  {
   "cell_type": "markdown",
   "metadata": {},
   "source": [
    "### Model - Decision Tree"
   ]
  },
  {
   "cell_type": "code",
   "execution_count": 31,
   "metadata": {},
   "outputs": [
    {
     "name": "stdout",
     "output_type": "stream",
     "text": [
      "sex         0\n",
      "pclass      0\n",
      "fare        0\n",
      "survived    0\n",
      "dtype: int64\n",
      "(1308, 4)\n"
     ]
    }
   ],
   "source": [
    "# First, subset df into the features of interest. df2 will be ALL the features we will explore in this model.\n",
    "\n",
    "df2 = df[['sex','pclass','fare','survived']].copy()\n",
    "df2['sex'] = df2['sex'].map( {'female': 0, 'male': 1} ).astype(int)\n",
    "df2=df2.dropna()\n",
    "print(df2.isnull().sum())\n",
    "print(df2.shape)"
   ]
  },
  {
   "cell_type": "code",
   "execution_count": 32,
   "metadata": {},
   "outputs": [],
   "source": [
    "y = df2['survived']\n",
    "X = df2[['sex','pclass','fare']]"
   ]
  },
  {
   "cell_type": "code",
   "execution_count": 33,
   "metadata": {},
   "outputs": [],
   "source": [
    "from sklearn import tree\n",
    "# Do a decision tree \n",
    "db_tree = tree.DecisionTreeClassifier(max_depth=3, random_state = 0)\n",
    "db_tree = db_tree.fit(X, y)"
   ]
  },
  {
   "cell_type": "markdown",
   "metadata": {},
   "source": [
    "__<h3 align='center'> Figure 10 </h3>__"
   ]
  },
  {
   "cell_type": "code",
   "execution_count": 34,
   "metadata": {},
   "outputs": [
    {
     "data": {
      "image/png": "[encoded data removed]",
      "text/plain": [
       "<IPython.core.display.Image object>"
      ]
     },
     "execution_count": 34,
     "metadata": {},
     "output_type": "execute_result"
    }
   ],
   "source": [
    "# Generate the tree\n",
    "import graphviz\n",
    "from IPython.display import Image  \n",
    "from six import StringIO  \n",
    "import pydotplus\n",
    "\n",
    "dot_data = StringIO()  \n",
    "tree.export_graphviz(db_tree, out_file=dot_data,  \n",
    "        feature_names=X.columns, rounded=True, rotate=True)\n",
    "graph = pydotplus.graph_from_dot_data(dot_data.getvalue())  \n",
    "Image(graph.create_png())  "
   ]
  },
  {
   "cell_type": "markdown",
   "metadata": {},
   "source": [
    "__<h3 align='center'> Tab - Model Accuracy </h3>__"
   ]
  },
  {
   "cell_type": "code",
   "execution_count": 35,
   "metadata": {},
   "outputs": [
    {
     "name": "stdout",
     "output_type": "stream",
     "text": [
      "Your decision tree is 80.20% accurate.\n"
     ]
    }
   ],
   "source": [
    "#  how accurate is our model?\n",
    "accuracy = db_tree.score(X,y) \n",
    "print(\"Your decision tree is {:.2f}% accurate.\".format(accuracy*100))"
   ]
  },
  {
   "cell_type": "markdown",
   "metadata": {},
   "source": [
    "__<h3 align='center'> Tab - Feature Importance </h3>__"
   ]
  },
  {
   "cell_type": "code",
   "execution_count": 36,
   "metadata": {},
   "outputs": [
    {
     "data": {
      "text/plain": [
       "array([0.70535621, 0.22607147, 0.06857231])"
      ]
     },
     "execution_count": 36,
     "metadata": {},
     "output_type": "execute_result"
    }
   ],
   "source": [
    "# Which feature is most important?\n",
    "db_tree.feature_importances_"
   ]
  },
  {
   "cell_type": "code",
   "execution_count": 37,
   "metadata": {},
   "outputs": [
    {
     "data": {
      "text/html": [
       "<div>\n",
       "<style scoped>\n",
       "    .dataframe tbody tr th:only-of-type {\n",
       "        vertical-align: middle;\n",
       "    }\n",
       "\n",
       "    .dataframe tbody tr th {\n",
       "        vertical-align: top;\n",
       "    }\n",
       "\n",
       "    .dataframe thead th {\n",
       "        text-align: right;\n",
       "    }\n",
       "</style>\n",
       "<table border=\"1\" class=\"dataframe\">\n",
       "  <thead>\n",
       "    <tr style=\"text-align: right;\">\n",
       "      <th></th>\n",
       "      <th>sex</th>\n",
       "      <th>pclass</th>\n",
       "      <th>fare</th>\n",
       "      <th>survived</th>\n",
       "      <th>predictions</th>\n",
       "    </tr>\n",
       "  </thead>\n",
       "  <tbody>\n",
       "    <tr>\n",
       "      <th>0</th>\n",
       "      <td>0</td>\n",
       "      <td>1</td>\n",
       "      <td>39.6000</td>\n",
       "      <td>1</td>\n",
       "      <td>1</td>\n",
       "    </tr>\n",
       "    <tr>\n",
       "      <th>1</th>\n",
       "      <td>1</td>\n",
       "      <td>1</td>\n",
       "      <td>56.9292</td>\n",
       "      <td>1</td>\n",
       "      <td>0</td>\n",
       "    </tr>\n",
       "    <tr>\n",
       "      <th>2</th>\n",
       "      <td>0</td>\n",
       "      <td>1</td>\n",
       "      <td>56.9292</td>\n",
       "      <td>1</td>\n",
       "      <td>1</td>\n",
       "    </tr>\n",
       "    <tr>\n",
       "      <th>3</th>\n",
       "      <td>1</td>\n",
       "      <td>1</td>\n",
       "      <td>26.0000</td>\n",
       "      <td>1</td>\n",
       "      <td>0</td>\n",
       "    </tr>\n",
       "    <tr>\n",
       "      <th>4</th>\n",
       "      <td>1</td>\n",
       "      <td>1</td>\n",
       "      <td>55.4417</td>\n",
       "      <td>1</td>\n",
       "      <td>0</td>\n",
       "    </tr>\n",
       "  </tbody>\n",
       "</table>\n",
       "</div>"
      ],
      "text/plain": [
       "   sex  pclass     fare  survived  predictions\n",
       "0    0       1  39.6000         1            1\n",
       "1    1       1  56.9292         1            0\n",
       "2    0       1  56.9292         1            1\n",
       "3    1       1  26.0000         1            0\n",
       "4    1       1  55.4417         1            0"
      ]
     },
     "execution_count": 37,
     "metadata": {},
     "output_type": "execute_result"
    }
   ],
   "source": [
    "df2['predictions'] = db_tree.predict(X)\n",
    "df2.head()"
   ]
  },
  {
   "cell_type": "markdown",
   "metadata": {},
   "source": [
    "__<h3 align='center'> Tab - Confusion Matrix </h3>__"
   ]
  },
  {
   "cell_type": "code",
   "execution_count": 38,
   "metadata": {},
   "outputs": [
    {
     "data": {
      "text/plain": [
       "array([[711,  97],\n",
       "       [162, 338]], dtype=int64)"
      ]
     },
     "execution_count": 38,
     "metadata": {},
     "output_type": "execute_result"
    }
   ],
   "source": [
    "from sklearn.metrics import confusion_matrix\n",
    "cm = confusion_matrix(df2['survived'],df2['predictions'])\n",
    "cm"
   ]
  },
  {
   "cell_type": "markdown",
   "metadata": {},
   "source": [
    "__<h3 align='center'> Tab - Model Predictions </h3>__"
   ]
  },
  {
   "cell_type": "code",
   "execution_count": 39,
   "metadata": {},
   "outputs": [
    {
     "name": "stdout",
     "output_type": "stream",
     "text": [
      "[1]\n",
      "[1]\n",
      "[0]\n",
      "[1]\n",
      "[0]\n"
     ]
    }
   ],
   "source": [
    "# Predictions by the model on the basis different feature values\n",
    "\n",
    "print(db_tree.predict([[0, 1, 25]])) # This is the prediction for a Female in 1st Class who paid $25 as fare.\n",
    "print(db_tree.predict([[0, 3, 5]])) # This is the prediction for a Female in 3rd Class who paid $5 as fare.\n",
    "print(db_tree.predict([[1, 3, 5]])) # This is the prediction for a Male in 3st Class who paid $5 as fare.\n",
    "print(db_tree.predict([[1, 1, 400]])) # This is the prediction for a Male in 1st Class who paid $400 as fare.\n",
    "print(db_tree.predict([[1, 2, 20]])) # This is the prediction for a Male in 2nd Class who paid $10 as fare."
   ]
  },
  {
   "cell_type": "markdown",
   "metadata": {},
   "source": [
    "__<h3 align='center'> Tab - Model Prediction Probability </h3>__"
   ]
  },
  {
   "cell_type": "code",
   "execution_count": 40,
   "metadata": {},
   "outputs": [
    {
     "name": "stdout",
     "output_type": "stream",
     "text": [
      "[[0.15189873 0.84810127]]\n",
      "[[0.43715847 0.56284153]]\n",
      "[[0.86427146 0.13572854]]\n",
      "[[0. 1.]]\n",
      "[[0.80246914 0.19753086]]\n"
     ]
    }
   ],
   "source": [
    "# What is the probability?\n",
    "\n",
    "print(db_tree.predict_proba([[0, 1, 25]])) # This is the prediction probability for a Female in 1st Class who paid $25 as fare.\n",
    "print(db_tree.predict_proba([[0, 3, 5]])) # This is the prediction probability for a Female in 3rd Class who paid $5 as fare.\n",
    "print(db_tree.predict_proba([[1, 3, 5]])) # This is the prediction probability for a Male in 3st Class who paid $5 as fare.\n",
    "print(db_tree.predict_proba([[1, 1, 400]])) # This is the prediction probability for a Male in 1st Class who paid $400 as fare.\n",
    "print(db_tree.predict_proba([[1, 2, 20]])) # This is the prediction probability for a Male in 2nd Class who paid $10 as fare."
   ]
  },
  {
   "cell_type": "code",
   "execution_count": null,
   "metadata": {},
   "outputs": [],
   "source": []
  }
 ],
 "metadata": {
  "kernelspec": {
   "display_name": "Python 3",
   "language": "python",
   "name": "python3"
  },
  "language_info": {
   "codemirror_mode": {
    "name": "ipython",
    "version": 3
   },
   "file_extension": ".py",
   "mimetype": "text/x-python",
   "name": "python",
   "nbconvert_exporter": "python",
   "pygments_lexer": "ipython3",
   "version": "3.6.13"
  }
 },
 "nbformat": 4,
 "nbformat_minor": 4
}
