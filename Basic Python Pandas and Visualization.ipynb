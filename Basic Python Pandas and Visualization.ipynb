{
 "cells": [
  {
   "cell_type": "markdown",
   "id": "e26f2034-d6c9-43be-b2d8-9ed50f7d6849",
   "metadata": {},
   "source": [
    "### <font color=Blue>__Problem 1 : Pandas__ </font> </br>\n",
    "\n",
    "__The below cell will :-__\n",
    "* Import the Pandas library. \n",
    "* Read the \"response.csv\" file into a Pandas Dataframe.\n",
    "* Show the top 5 rows of \"response.csv\" data file to confirm the data has been imported successfully and to analyze the data at high level.\n",
    "* Check the shape and different stats of the data."
   ]
  },
  {
   "cell_type": "code",
   "execution_count": 1,
   "id": "855c7712-920f-452e-b4f3-540c5111dbff",
   "metadata": {},
   "outputs": [
    {
     "data": {
      "text/html": [
       "<div>\n",
       "<style scoped>\n",
       "    .dataframe tbody tr th:only-of-type {\n",
       "        vertical-align: middle;\n",
       "    }\n",
       "\n",
       "    .dataframe tbody tr th {\n",
       "        vertical-align: top;\n",
       "    }\n",
       "\n",
       "    .dataframe thead th {\n",
       "        text-align: right;\n",
       "    }\n",
       "</style>\n",
       "<table border=\"1\" class=\"dataframe\">\n",
       "  <thead>\n",
       "    <tr style=\"text-align: right;\">\n",
       "      <th></th>\n",
       "      <th>Music</th>\n",
       "      <th>Slow songs or fast songs</th>\n",
       "      <th>Dance</th>\n",
       "      <th>Folk</th>\n",
       "      <th>Country</th>\n",
       "      <th>Classical music</th>\n",
       "      <th>Musical</th>\n",
       "      <th>Pop</th>\n",
       "      <th>Rock</th>\n",
       "      <th>Metal or Hardrock</th>\n",
       "      <th>...</th>\n",
       "      <th>Age</th>\n",
       "      <th>Height</th>\n",
       "      <th>Weight</th>\n",
       "      <th>Number of siblings</th>\n",
       "      <th>Gender</th>\n",
       "      <th>Left - right handed</th>\n",
       "      <th>Education</th>\n",
       "      <th>Only child</th>\n",
       "      <th>Village - town</th>\n",
       "      <th>House - block of flats</th>\n",
       "    </tr>\n",
       "  </thead>\n",
       "  <tbody>\n",
       "    <tr>\n",
       "      <th>0</th>\n",
       "      <td>5.0</td>\n",
       "      <td>3.0</td>\n",
       "      <td>2.0</td>\n",
       "      <td>1.0</td>\n",
       "      <td>2.0</td>\n",
       "      <td>2.0</td>\n",
       "      <td>1.0</td>\n",
       "      <td>5.0</td>\n",
       "      <td>5.0</td>\n",
       "      <td>1.0</td>\n",
       "      <td>...</td>\n",
       "      <td>20.0</td>\n",
       "      <td>163.0</td>\n",
       "      <td>48.0</td>\n",
       "      <td>1.0</td>\n",
       "      <td>female</td>\n",
       "      <td>right handed</td>\n",
       "      <td>college/bachelor degree</td>\n",
       "      <td>no</td>\n",
       "      <td>village</td>\n",
       "      <td>block of flats</td>\n",
       "    </tr>\n",
       "    <tr>\n",
       "      <th>1</th>\n",
       "      <td>4.0</td>\n",
       "      <td>4.0</td>\n",
       "      <td>2.0</td>\n",
       "      <td>1.0</td>\n",
       "      <td>1.0</td>\n",
       "      <td>1.0</td>\n",
       "      <td>2.0</td>\n",
       "      <td>3.0</td>\n",
       "      <td>5.0</td>\n",
       "      <td>4.0</td>\n",
       "      <td>...</td>\n",
       "      <td>19.0</td>\n",
       "      <td>163.0</td>\n",
       "      <td>58.0</td>\n",
       "      <td>2.0</td>\n",
       "      <td>female</td>\n",
       "      <td>right handed</td>\n",
       "      <td>college/bachelor degree</td>\n",
       "      <td>no</td>\n",
       "      <td>city</td>\n",
       "      <td>block of flats</td>\n",
       "    </tr>\n",
       "    <tr>\n",
       "      <th>2</th>\n",
       "      <td>5.0</td>\n",
       "      <td>5.0</td>\n",
       "      <td>2.0</td>\n",
       "      <td>2.0</td>\n",
       "      <td>3.0</td>\n",
       "      <td>4.0</td>\n",
       "      <td>5.0</td>\n",
       "      <td>3.0</td>\n",
       "      <td>5.0</td>\n",
       "      <td>3.0</td>\n",
       "      <td>...</td>\n",
       "      <td>20.0</td>\n",
       "      <td>176.0</td>\n",
       "      <td>67.0</td>\n",
       "      <td>2.0</td>\n",
       "      <td>female</td>\n",
       "      <td>right handed</td>\n",
       "      <td>secondary school</td>\n",
       "      <td>no</td>\n",
       "      <td>city</td>\n",
       "      <td>block of flats</td>\n",
       "    </tr>\n",
       "    <tr>\n",
       "      <th>3</th>\n",
       "      <td>5.0</td>\n",
       "      <td>3.0</td>\n",
       "      <td>2.0</td>\n",
       "      <td>1.0</td>\n",
       "      <td>1.0</td>\n",
       "      <td>1.0</td>\n",
       "      <td>1.0</td>\n",
       "      <td>2.0</td>\n",
       "      <td>2.0</td>\n",
       "      <td>1.0</td>\n",
       "      <td>...</td>\n",
       "      <td>22.0</td>\n",
       "      <td>172.0</td>\n",
       "      <td>59.0</td>\n",
       "      <td>1.0</td>\n",
       "      <td>female</td>\n",
       "      <td>right handed</td>\n",
       "      <td>college/bachelor degree</td>\n",
       "      <td>yes</td>\n",
       "      <td>city</td>\n",
       "      <td>house/bungalow</td>\n",
       "    </tr>\n",
       "    <tr>\n",
       "      <th>4</th>\n",
       "      <td>5.0</td>\n",
       "      <td>3.0</td>\n",
       "      <td>4.0</td>\n",
       "      <td>3.0</td>\n",
       "      <td>2.0</td>\n",
       "      <td>4.0</td>\n",
       "      <td>3.0</td>\n",
       "      <td>5.0</td>\n",
       "      <td>3.0</td>\n",
       "      <td>1.0</td>\n",
       "      <td>...</td>\n",
       "      <td>20.0</td>\n",
       "      <td>170.0</td>\n",
       "      <td>59.0</td>\n",
       "      <td>1.0</td>\n",
       "      <td>female</td>\n",
       "      <td>right handed</td>\n",
       "      <td>secondary school</td>\n",
       "      <td>no</td>\n",
       "      <td>village</td>\n",
       "      <td>house/bungalow</td>\n",
       "    </tr>\n",
       "  </tbody>\n",
       "</table>\n",
       "<p>5 rows × 150 columns</p>\n",
       "</div>"
      ],
      "text/plain": [
       "   Music  Slow songs or fast songs  Dance  Folk  Country  Classical music  \\\n",
       "0    5.0                       3.0    2.0   1.0      2.0              2.0   \n",
       "1    4.0                       4.0    2.0   1.0      1.0              1.0   \n",
       "2    5.0                       5.0    2.0   2.0      3.0              4.0   \n",
       "3    5.0                       3.0    2.0   1.0      1.0              1.0   \n",
       "4    5.0                       3.0    4.0   3.0      2.0              4.0   \n",
       "\n",
       "   Musical  Pop  Rock  Metal or Hardrock  ...   Age  Height  Weight  \\\n",
       "0      1.0  5.0   5.0                1.0  ...  20.0   163.0    48.0   \n",
       "1      2.0  3.0   5.0                4.0  ...  19.0   163.0    58.0   \n",
       "2      5.0  3.0   5.0                3.0  ...  20.0   176.0    67.0   \n",
       "3      1.0  2.0   2.0                1.0  ...  22.0   172.0    59.0   \n",
       "4      3.0  5.0   3.0                1.0  ...  20.0   170.0    59.0   \n",
       "\n",
       "   Number of siblings  Gender  Left - right handed                Education  \\\n",
       "0                 1.0  female         right handed  college/bachelor degree   \n",
       "1                 2.0  female         right handed  college/bachelor degree   \n",
       "2                 2.0  female         right handed         secondary school   \n",
       "3                 1.0  female         right handed  college/bachelor degree   \n",
       "4                 1.0  female         right handed         secondary school   \n",
       "\n",
       "   Only child  Village - town  House - block of flats  \n",
       "0          no         village          block of flats  \n",
       "1          no            city          block of flats  \n",
       "2          no            city          block of flats  \n",
       "3         yes            city          house/bungalow  \n",
       "4          no         village          house/bungalow  \n",
       "\n",
       "[5 rows x 150 columns]"
      ]
     },
     "execution_count": 1,
     "metadata": {},
     "output_type": "execute_result"
    }
   ],
   "source": [
    "import pandas as pd\n",
    "df = pd.read_csv('responses.csv')\n",
    "df.head()"
   ]
  },
  {
   "cell_type": "markdown",
   "id": "981cdebf-a722-40d5-a57e-febda2eb847a",
   "metadata": {},
   "source": [
    "__The below cell will :-__\n",
    "* Check the shape and different stats of the data."
   ]
  },
  {
   "cell_type": "code",
   "execution_count": 2,
   "id": "1df1c5b9-dc8d-4326-853d-241989e0c8bf",
   "metadata": {},
   "outputs": [
    {
     "name": "stdout",
     "output_type": "stream",
     "text": [
      "(1010, 150)\n"
     ]
    },
    {
     "data": {
      "text/html": [
       "<div>\n",
       "<style scoped>\n",
       "    .dataframe tbody tr th:only-of-type {\n",
       "        vertical-align: middle;\n",
       "    }\n",
       "\n",
       "    .dataframe tbody tr th {\n",
       "        vertical-align: top;\n",
       "    }\n",
       "\n",
       "    .dataframe thead th {\n",
       "        text-align: right;\n",
       "    }\n",
       "</style>\n",
       "<table border=\"1\" class=\"dataframe\">\n",
       "  <thead>\n",
       "    <tr style=\"text-align: right;\">\n",
       "      <th></th>\n",
       "      <th>count</th>\n",
       "      <th>mean</th>\n",
       "      <th>std</th>\n",
       "      <th>min</th>\n",
       "      <th>25%</th>\n",
       "      <th>50%</th>\n",
       "      <th>75%</th>\n",
       "      <th>max</th>\n",
       "    </tr>\n",
       "  </thead>\n",
       "  <tbody>\n",
       "    <tr>\n",
       "      <th>Music</th>\n",
       "      <td>1007.0</td>\n",
       "      <td>4.731877</td>\n",
       "      <td>0.664049</td>\n",
       "      <td>1.0</td>\n",
       "      <td>5.0</td>\n",
       "      <td>5.0</td>\n",
       "      <td>5.0</td>\n",
       "      <td>5.0</td>\n",
       "    </tr>\n",
       "    <tr>\n",
       "      <th>Slow songs or fast songs</th>\n",
       "      <td>1008.0</td>\n",
       "      <td>3.328373</td>\n",
       "      <td>0.833931</td>\n",
       "      <td>1.0</td>\n",
       "      <td>3.0</td>\n",
       "      <td>3.0</td>\n",
       "      <td>4.0</td>\n",
       "      <td>5.0</td>\n",
       "    </tr>\n",
       "    <tr>\n",
       "      <th>Dance</th>\n",
       "      <td>1006.0</td>\n",
       "      <td>3.113320</td>\n",
       "      <td>1.170568</td>\n",
       "      <td>1.0</td>\n",
       "      <td>2.0</td>\n",
       "      <td>3.0</td>\n",
       "      <td>4.0</td>\n",
       "      <td>5.0</td>\n",
       "    </tr>\n",
       "    <tr>\n",
       "      <th>Folk</th>\n",
       "      <td>1005.0</td>\n",
       "      <td>2.288557</td>\n",
       "      <td>1.138916</td>\n",
       "      <td>1.0</td>\n",
       "      <td>1.0</td>\n",
       "      <td>2.0</td>\n",
       "      <td>3.0</td>\n",
       "      <td>5.0</td>\n",
       "    </tr>\n",
       "    <tr>\n",
       "      <th>Country</th>\n",
       "      <td>1005.0</td>\n",
       "      <td>2.123383</td>\n",
       "      <td>1.076136</td>\n",
       "      <td>1.0</td>\n",
       "      <td>1.0</td>\n",
       "      <td>2.0</td>\n",
       "      <td>3.0</td>\n",
       "      <td>5.0</td>\n",
       "    </tr>\n",
       "    <tr>\n",
       "      <th>...</th>\n",
       "      <td>...</td>\n",
       "      <td>...</td>\n",
       "      <td>...</td>\n",
       "      <td>...</td>\n",
       "      <td>...</td>\n",
       "      <td>...</td>\n",
       "      <td>...</td>\n",
       "      <td>...</td>\n",
       "    </tr>\n",
       "    <tr>\n",
       "      <th>Spending on healthy eating</th>\n",
       "      <td>1008.0</td>\n",
       "      <td>3.557540</td>\n",
       "      <td>1.093750</td>\n",
       "      <td>1.0</td>\n",
       "      <td>3.0</td>\n",
       "      <td>4.0</td>\n",
       "      <td>4.0</td>\n",
       "      <td>5.0</td>\n",
       "    </tr>\n",
       "    <tr>\n",
       "      <th>Age</th>\n",
       "      <td>1003.0</td>\n",
       "      <td>20.433699</td>\n",
       "      <td>2.828840</td>\n",
       "      <td>15.0</td>\n",
       "      <td>19.0</td>\n",
       "      <td>20.0</td>\n",
       "      <td>22.0</td>\n",
       "      <td>30.0</td>\n",
       "    </tr>\n",
       "    <tr>\n",
       "      <th>Height</th>\n",
       "      <td>990.0</td>\n",
       "      <td>173.514141</td>\n",
       "      <td>10.024505</td>\n",
       "      <td>62.0</td>\n",
       "      <td>167.0</td>\n",
       "      <td>173.0</td>\n",
       "      <td>180.0</td>\n",
       "      <td>203.0</td>\n",
       "    </tr>\n",
       "    <tr>\n",
       "      <th>Weight</th>\n",
       "      <td>990.0</td>\n",
       "      <td>66.405051</td>\n",
       "      <td>13.839561</td>\n",
       "      <td>41.0</td>\n",
       "      <td>55.0</td>\n",
       "      <td>64.0</td>\n",
       "      <td>75.0</td>\n",
       "      <td>165.0</td>\n",
       "    </tr>\n",
       "    <tr>\n",
       "      <th>Number of siblings</th>\n",
       "      <td>1004.0</td>\n",
       "      <td>1.297809</td>\n",
       "      <td>1.013348</td>\n",
       "      <td>0.0</td>\n",
       "      <td>1.0</td>\n",
       "      <td>1.0</td>\n",
       "      <td>2.0</td>\n",
       "      <td>10.0</td>\n",
       "    </tr>\n",
       "  </tbody>\n",
       "</table>\n",
       "<p>139 rows × 8 columns</p>\n",
       "</div>"
      ],
      "text/plain": [
       "                             count        mean        std   min    25%    50%  \\\n",
       "Music                       1007.0    4.731877   0.664049   1.0    5.0    5.0   \n",
       "Slow songs or fast songs    1008.0    3.328373   0.833931   1.0    3.0    3.0   \n",
       "Dance                       1006.0    3.113320   1.170568   1.0    2.0    3.0   \n",
       "Folk                        1005.0    2.288557   1.138916   1.0    1.0    2.0   \n",
       "Country                     1005.0    2.123383   1.076136   1.0    1.0    2.0   \n",
       "...                            ...         ...        ...   ...    ...    ...   \n",
       "Spending on healthy eating  1008.0    3.557540   1.093750   1.0    3.0    4.0   \n",
       "Age                         1003.0   20.433699   2.828840  15.0   19.0   20.0   \n",
       "Height                       990.0  173.514141  10.024505  62.0  167.0  173.0   \n",
       "Weight                       990.0   66.405051  13.839561  41.0   55.0   64.0   \n",
       "Number of siblings          1004.0    1.297809   1.013348   0.0    1.0    1.0   \n",
       "\n",
       "                              75%    max  \n",
       "Music                         5.0    5.0  \n",
       "Slow songs or fast songs      4.0    5.0  \n",
       "Dance                         4.0    5.0  \n",
       "Folk                          3.0    5.0  \n",
       "Country                       3.0    5.0  \n",
       "...                           ...    ...  \n",
       "Spending on healthy eating    4.0    5.0  \n",
       "Age                          22.0   30.0  \n",
       "Height                      180.0  203.0  \n",
       "Weight                       75.0  165.0  \n",
       "Number of siblings            2.0   10.0  \n",
       "\n",
       "[139 rows x 8 columns]"
      ]
     },
     "execution_count": 2,
     "metadata": {},
     "output_type": "execute_result"
    }
   ],
   "source": [
    "print(df.shape)\n",
    "df.describe().transpose()"
   ]
  },
  {
   "cell_type": "markdown",
   "id": "f127bc57-0167-404f-80d1-b462866fad6d",
   "metadata": {},
   "source": [
    "__The below cell will :-__\n",
    "* Create a subset of above dataframe \"df\" using 'Music', 'Slow songs or fast songs', 'Dance', 'Folk', 'Country', 'Classical music', 'Musical', 'Pop', 'Rock', 'Metal or Hardrock' columns.\n",
    "* Show the top 5 rows from new dataframe \"df2\" to verify the columns and data."
   ]
  },
  {
   "cell_type": "code",
   "execution_count": 3,
   "id": "165cbfed-0cc5-4d87-924e-26394f52c9a3",
   "metadata": {},
   "outputs": [
    {
     "data": {
      "text/html": [
       "<div>\n",
       "<style scoped>\n",
       "    .dataframe tbody tr th:only-of-type {\n",
       "        vertical-align: middle;\n",
       "    }\n",
       "\n",
       "    .dataframe tbody tr th {\n",
       "        vertical-align: top;\n",
       "    }\n",
       "\n",
       "    .dataframe thead th {\n",
       "        text-align: right;\n",
       "    }\n",
       "</style>\n",
       "<table border=\"1\" class=\"dataframe\">\n",
       "  <thead>\n",
       "    <tr style=\"text-align: right;\">\n",
       "      <th></th>\n",
       "      <th>Music</th>\n",
       "      <th>Slow songs or fast songs</th>\n",
       "      <th>Dance</th>\n",
       "      <th>Folk</th>\n",
       "      <th>Country</th>\n",
       "      <th>Classical music</th>\n",
       "      <th>Musical</th>\n",
       "      <th>Pop</th>\n",
       "      <th>Rock</th>\n",
       "      <th>Metal or Hardrock</th>\n",
       "    </tr>\n",
       "  </thead>\n",
       "  <tbody>\n",
       "    <tr>\n",
       "      <th>0</th>\n",
       "      <td>5.0</td>\n",
       "      <td>3.0</td>\n",
       "      <td>2.0</td>\n",
       "      <td>1.0</td>\n",
       "      <td>2.0</td>\n",
       "      <td>2.0</td>\n",
       "      <td>1.0</td>\n",
       "      <td>5.0</td>\n",
       "      <td>5.0</td>\n",
       "      <td>1.0</td>\n",
       "    </tr>\n",
       "    <tr>\n",
       "      <th>1</th>\n",
       "      <td>4.0</td>\n",
       "      <td>4.0</td>\n",
       "      <td>2.0</td>\n",
       "      <td>1.0</td>\n",
       "      <td>1.0</td>\n",
       "      <td>1.0</td>\n",
       "      <td>2.0</td>\n",
       "      <td>3.0</td>\n",
       "      <td>5.0</td>\n",
       "      <td>4.0</td>\n",
       "    </tr>\n",
       "    <tr>\n",
       "      <th>2</th>\n",
       "      <td>5.0</td>\n",
       "      <td>5.0</td>\n",
       "      <td>2.0</td>\n",
       "      <td>2.0</td>\n",
       "      <td>3.0</td>\n",
       "      <td>4.0</td>\n",
       "      <td>5.0</td>\n",
       "      <td>3.0</td>\n",
       "      <td>5.0</td>\n",
       "      <td>3.0</td>\n",
       "    </tr>\n",
       "    <tr>\n",
       "      <th>3</th>\n",
       "      <td>5.0</td>\n",
       "      <td>3.0</td>\n",
       "      <td>2.0</td>\n",
       "      <td>1.0</td>\n",
       "      <td>1.0</td>\n",
       "      <td>1.0</td>\n",
       "      <td>1.0</td>\n",
       "      <td>2.0</td>\n",
       "      <td>2.0</td>\n",
       "      <td>1.0</td>\n",
       "    </tr>\n",
       "    <tr>\n",
       "      <th>4</th>\n",
       "      <td>5.0</td>\n",
       "      <td>3.0</td>\n",
       "      <td>4.0</td>\n",
       "      <td>3.0</td>\n",
       "      <td>2.0</td>\n",
       "      <td>4.0</td>\n",
       "      <td>3.0</td>\n",
       "      <td>5.0</td>\n",
       "      <td>3.0</td>\n",
       "      <td>1.0</td>\n",
       "    </tr>\n",
       "  </tbody>\n",
       "</table>\n",
       "</div>"
      ],
      "text/plain": [
       "   Music  Slow songs or fast songs  Dance  Folk  Country  Classical music  \\\n",
       "0    5.0                       3.0    2.0   1.0      2.0              2.0   \n",
       "1    4.0                       4.0    2.0   1.0      1.0              1.0   \n",
       "2    5.0                       5.0    2.0   2.0      3.0              4.0   \n",
       "3    5.0                       3.0    2.0   1.0      1.0              1.0   \n",
       "4    5.0                       3.0    4.0   3.0      2.0              4.0   \n",
       "\n",
       "   Musical  Pop  Rock  Metal or Hardrock  \n",
       "0      1.0  5.0   5.0                1.0  \n",
       "1      2.0  3.0   5.0                4.0  \n",
       "2      5.0  3.0   5.0                3.0  \n",
       "3      1.0  2.0   2.0                1.0  \n",
       "4      3.0  5.0   3.0                1.0  "
      ]
     },
     "execution_count": 3,
     "metadata": {},
     "output_type": "execute_result"
    }
   ],
   "source": [
    "df2=df[['Music', 'Slow songs or fast songs', 'Dance', 'Folk', 'Country', 'Classical music', 'Musical', 'Pop', 'Rock', 'Metal or Hardrock']]\n",
    "df2.head()"
   ]
  },
  {
   "cell_type": "markdown",
   "id": "e105a130-3aeb-4b5a-8f7d-fc8b2d3f7163",
   "metadata": {},
   "source": [
    "__The below cell will :-__\n",
    "* Rename the last column to 'HardRock'\n",
    "* Print the before and after column names from dataframe \"df2\" to check if the column has been renamed to \"HardRock"
   ]
  },
  {
   "cell_type": "code",
   "execution_count": 4,
   "id": "bdfd72fa-2c58-4d79-88fa-ee9067ec64e5",
   "metadata": {},
   "outputs": [
    {
     "name": "stdout",
     "output_type": "stream",
     "text": [
      "Index(['Music', 'Slow songs or fast songs', 'Dance', 'Folk', 'Country',\n",
      "       'Classical music', 'Musical', 'Pop', 'Rock', 'Metal or Hardrock'],\n",
      "      dtype='object')\n",
      "Index(['Music', 'Slow songs or fast songs', 'Dance', 'Folk', 'Country',\n",
      "       'Classical music', 'Musical', 'Pop', 'Rock', 'HardRock'],\n",
      "      dtype='object')\n"
     ]
    }
   ],
   "source": [
    "print(df2.columns)\n",
    "df2.columns = ['Music', 'Slow songs or fast songs', 'Dance', 'Folk', 'Country', 'Classical music', 'Musical', 'Pop', 'Rock', 'HardRock']\n",
    "print(df2.columns)\n",
    "\n",
    "#Below is another way of renaming the column.\n",
    "\n",
    "#print(df2.columns)\n",
    "#df2=df2.rename(columns={\"Metal or Hardrock\": \"HardRock\"})\n",
    "#print(df2.columns)"
   ]
  },
  {
   "cell_type": "markdown",
   "id": "836c5531-a59a-4190-a160-f783349dad90",
   "metadata": {},
   "source": [
    "__The below cell will :-__\n",
    "* Create a new GenderCode column, which lists women as 0 and men as 1.\n",
    "* Show the top 5 rows from dataframe \"df2\" to check if the new column \"GenderCode\" has been added"
   ]
  },
  {
   "cell_type": "code",
   "execution_count": 5,
   "id": "f9197e34-2c32-4585-97a3-9b44c581ae79",
   "metadata": {},
   "outputs": [
    {
     "data": {
      "text/html": [
       "<div>\n",
       "<style scoped>\n",
       "    .dataframe tbody tr th:only-of-type {\n",
       "        vertical-align: middle;\n",
       "    }\n",
       "\n",
       "    .dataframe tbody tr th {\n",
       "        vertical-align: top;\n",
       "    }\n",
       "\n",
       "    .dataframe thead th {\n",
       "        text-align: right;\n",
       "    }\n",
       "</style>\n",
       "<table border=\"1\" class=\"dataframe\">\n",
       "  <thead>\n",
       "    <tr style=\"text-align: right;\">\n",
       "      <th></th>\n",
       "      <th>Music</th>\n",
       "      <th>Slow songs or fast songs</th>\n",
       "      <th>Dance</th>\n",
       "      <th>Folk</th>\n",
       "      <th>Country</th>\n",
       "      <th>Classical music</th>\n",
       "      <th>Musical</th>\n",
       "      <th>Pop</th>\n",
       "      <th>Rock</th>\n",
       "      <th>HardRock</th>\n",
       "      <th>GenderCode</th>\n",
       "    </tr>\n",
       "  </thead>\n",
       "  <tbody>\n",
       "    <tr>\n",
       "      <th>0</th>\n",
       "      <td>5.0</td>\n",
       "      <td>3.0</td>\n",
       "      <td>2.0</td>\n",
       "      <td>1.0</td>\n",
       "      <td>2.0</td>\n",
       "      <td>2.0</td>\n",
       "      <td>1.0</td>\n",
       "      <td>5.0</td>\n",
       "      <td>5.0</td>\n",
       "      <td>1.0</td>\n",
       "      <td>0</td>\n",
       "    </tr>\n",
       "    <tr>\n",
       "      <th>1</th>\n",
       "      <td>4.0</td>\n",
       "      <td>4.0</td>\n",
       "      <td>2.0</td>\n",
       "      <td>1.0</td>\n",
       "      <td>1.0</td>\n",
       "      <td>1.0</td>\n",
       "      <td>2.0</td>\n",
       "      <td>3.0</td>\n",
       "      <td>5.0</td>\n",
       "      <td>4.0</td>\n",
       "      <td>0</td>\n",
       "    </tr>\n",
       "    <tr>\n",
       "      <th>2</th>\n",
       "      <td>5.0</td>\n",
       "      <td>5.0</td>\n",
       "      <td>2.0</td>\n",
       "      <td>2.0</td>\n",
       "      <td>3.0</td>\n",
       "      <td>4.0</td>\n",
       "      <td>5.0</td>\n",
       "      <td>3.0</td>\n",
       "      <td>5.0</td>\n",
       "      <td>3.0</td>\n",
       "      <td>0</td>\n",
       "    </tr>\n",
       "    <tr>\n",
       "      <th>3</th>\n",
       "      <td>5.0</td>\n",
       "      <td>3.0</td>\n",
       "      <td>2.0</td>\n",
       "      <td>1.0</td>\n",
       "      <td>1.0</td>\n",
       "      <td>1.0</td>\n",
       "      <td>1.0</td>\n",
       "      <td>2.0</td>\n",
       "      <td>2.0</td>\n",
       "      <td>1.0</td>\n",
       "      <td>0</td>\n",
       "    </tr>\n",
       "    <tr>\n",
       "      <th>4</th>\n",
       "      <td>5.0</td>\n",
       "      <td>3.0</td>\n",
       "      <td>4.0</td>\n",
       "      <td>3.0</td>\n",
       "      <td>2.0</td>\n",
       "      <td>4.0</td>\n",
       "      <td>3.0</td>\n",
       "      <td>5.0</td>\n",
       "      <td>3.0</td>\n",
       "      <td>1.0</td>\n",
       "      <td>0</td>\n",
       "    </tr>\n",
       "  </tbody>\n",
       "</table>\n",
       "</div>"
      ],
      "text/plain": [
       "   Music  Slow songs or fast songs  Dance  Folk  Country  Classical music  \\\n",
       "0    5.0                       3.0    2.0   1.0      2.0              2.0   \n",
       "1    4.0                       4.0    2.0   1.0      1.0              1.0   \n",
       "2    5.0                       5.0    2.0   2.0      3.0              4.0   \n",
       "3    5.0                       3.0    2.0   1.0      1.0              1.0   \n",
       "4    5.0                       3.0    4.0   3.0      2.0              4.0   \n",
       "\n",
       "   Musical  Pop  Rock  HardRock  GenderCode  \n",
       "0      1.0  5.0   5.0       1.0           0  \n",
       "1      2.0  3.0   5.0       4.0           0  \n",
       "2      5.0  3.0   5.0       3.0           0  \n",
       "3      1.0  2.0   2.0       1.0           0  \n",
       "4      3.0  5.0   3.0       1.0           0  "
      ]
     },
     "execution_count": 5,
     "metadata": {},
     "output_type": "execute_result"
    }
   ],
   "source": [
    "df2=df2.copy()\n",
    "\n",
    "# We used the default value as 2 because there are certain missing values in the data. I don't want to define any default Gender for missing values.\n",
    "\n",
    "df2['GenderCode']=2 \n",
    "df2.loc[df['Gender'] == 'female','GenderCode'] = 0\n",
    "df2.loc[df['Gender'] == 'male','GenderCode'] = 1\n",
    "df2.head()"
   ]
  },
  {
   "cell_type": "markdown",
   "id": "37d32494-81af-4594-b543-850cdb0227a1",
   "metadata": {},
   "source": [
    "__The below cell will :-__\n",
    "* Verify the GenderCode logic by comparing the record counts from Gender and GenderCode columns."
   ]
  },
  {
   "cell_type": "code",
   "execution_count": 6,
   "id": "8937cd31-8a30-4a53-8c58-cc3b3e7a6a8b",
   "metadata": {},
   "outputs": [
    {
     "name": "stdout",
     "output_type": "stream",
     "text": [
      "female    593\n",
      "male      411\n",
      "NaN         6\n",
      "Name: Gender, dtype: int64\n",
      "0    593\n",
      "1    411\n",
      "2      6\n",
      "Name: GenderCode, dtype: int64\n"
     ]
    }
   ],
   "source": [
    "print(df['Gender'].value_counts(dropna=False))\n",
    "print(df2['GenderCode'].value_counts())"
   ]
  },
  {
   "cell_type": "markdown",
   "id": "26436a2d-c095-4caf-a80a-cc9d08d334f0",
   "metadata": {},
   "source": [
    "__The below cell will :-__\n",
    "* Run the mean for HardRock, grouped by your new gendercode variable."
   ]
  },
  {
   "cell_type": "code",
   "execution_count": 7,
   "id": "84c82b15-505c-4250-8a9a-f4e42c3ddd94",
   "metadata": {},
   "outputs": [
    {
     "data": {
      "text/plain": [
       "GenderCode\n",
       "0    2.160473\n",
       "1    2.639024\n",
       "2    3.400000\n",
       "Name: HardRock, dtype: float64"
      ]
     },
     "execution_count": 7,
     "metadata": {},
     "output_type": "execute_result"
    }
   ],
   "source": [
    "df2['HardRock'].groupby(df2['GenderCode']).mean()"
   ]
  },
  {
   "cell_type": "markdown",
   "id": "a450ccbb-e118-42c1-bb87-88fa1c3d069e",
   "metadata": {},
   "source": [
    "### <font color=Blue>__Problem 2: Visualizations__ </font> </br>\n",
    "\n",
    "__The below cell will :-__\n",
    "* Import the numpy library for numeric calculations and matplotlib and Seaborn library for plots.\n",
    "* Generate the histogram plots using df2 on column \"Rock\"."
   ]
  },
  {
   "cell_type": "code",
   "execution_count": 8,
   "id": "184eb6b5-76d3-45cb-9904-21b996cf8ef0",
   "metadata": {},
   "outputs": [],
   "source": [
    "import matplotlib.pyplot as plt\n",
    "import seaborn as sns\n",
    "import numpy as np\n",
    "%matplotlib inline"
   ]
  },
  {
   "cell_type": "code",
   "execution_count": 24,
   "id": "4db8b8ac-86bf-4ef7-8908-077ebd8f96ba",
   "metadata": {},
   "outputs": [
    {
     "data": {
      "image/png": "[encoded data removed]",
      "text/plain": [
       "<Figure size 432x288 with 1 Axes>"
      ]
     },
     "metadata": {
      "needs_background": "light"
     },
     "output_type": "display_data"
    }
   ],
   "source": [
    "plt.hist(df2.Rock)\n",
    "plt.xlabel(\"Student's Ratings for Rock Music\")\n",
    "plt.ylabel(\"Number of Students\")\n",
    "plt.title(\"Student's Ratings for Rock Music frequency chart\",fontdict={'fontsize':15})\n",
    "plt.xticks([1,2,3,4,5])\n",
    "plt.show()"
   ]
  },
  {
   "cell_type": "markdown",
   "id": "b6a0954b-ff0b-407b-91e2-6e0deab835ea",
   "metadata": {},
   "source": [
    "__The below cell will :-__\n",
    "* Show the histogram using Seaborn."
   ]
  },
  {
   "cell_type": "code",
   "execution_count": 10,
   "id": "109ff436-b459-4d27-b123-e2a559307e30",
   "metadata": {},
   "outputs": [
    {
     "data": {
      "text/plain": [
       "<seaborn.axisgrid.FacetGrid at 0x262b6c47048>"
      ]
     },
     "execution_count": 10,
     "metadata": {},
     "output_type": "execute_result"
    },
    {
     "data": {
      "image/png": "[encoded data removed]",
      "text/plain": [
       "<Figure size 360x360 with 1 Axes>"
      ]
     },
     "metadata": {
      "needs_background": "light"
     },
     "output_type": "display_data"
    }
   ],
   "source": [
    "sns.displot(df2.Rock)"
   ]
  },
  {
   "cell_type": "markdown",
   "id": "ba0166d6-60df-4d66-92d0-94b0b52b516b",
   "metadata": {},
   "source": [
    "__The above Histogram shows :-__\n",
    "* The frequency of each value for ratings for \"Rock\" music by the students and the distribution of those values. \n",
    "* There are 1-5 rating that you can give to \"Rock\" music.\n",
    "* The maximum number of students like \"Rock\" music as most of the students (approx. 350) gave 5 rating to Rock.\n",
    "* A very small number of students ( approx. 50 ) don't prefer to listen to \"Rock\" Music."
   ]
  },
  {
   "cell_type": "markdown",
   "id": "aaa903af-933e-4738-9656-f2b5ac7f053f",
   "metadata": {},
   "source": [
    "__The below cell will :-__\n",
    "* Generate the boxplot plots on column \"Dance\" from df2 ."
   ]
  },
  {
   "cell_type": "code",
   "execution_count": 11,
   "id": "7b2c146a-2a2c-471e-9d56-aca88e74ddd0",
   "metadata": {},
   "outputs": [
    {
     "data": {
      "image/png": "[encoded data removed]",
      "text/plain": [
       "<Figure size 432x288 with 1 Axes>"
      ]
     },
     "metadata": {
      "needs_background": "light"
     },
     "output_type": "display_data"
    }
   ],
   "source": [
    "plt.boxplot([df2.Dance.dropna(),df2.HardRock.dropna()])\n",
    "plt.show()"
   ]
  },
  {
   "cell_type": "code",
   "execution_count": 12,
   "id": "2e1d0b46-4254-48b3-b246-cb4400f64532",
   "metadata": {},
   "outputs": [
    {
     "name": "stdout",
     "output_type": "stream",
     "text": [
      "3.0    321\n",
      "4.0    235\n",
      "2.0    215\n",
      "5.0    141\n",
      "1.0     94\n",
      "NaN      4\n",
      "Name: Dance, dtype: int64\n",
      "1.0    384\n",
      "2.0    219\n",
      "3.0    164\n",
      "4.0    136\n",
      "5.0    104\n",
      "NaN      3\n",
      "Name: HardRock, dtype: int64\n"
     ]
    }
   ],
   "source": [
    "print(df2['Dance'].value_counts(dropna = False))\n",
    "print(df2['HardRock'].value_counts(dropna = False))"
   ]
  },
  {
   "cell_type": "markdown",
   "id": "8d94e514-ee2d-4619-8b21-340379562f49",
   "metadata": {},
   "source": [
    "__The above Boxplot shows :-__\n",
    "* The medians, interquartile range and whiskers for \"Dance\" and \"HardRock\" music. \n",
    "* There are 1-5 rating that you can give to \"Dance\" and \"HardRock\" music.\n",
    "* Dance is liked by close to half of the students because the median is 3 more than 50% students rated \"Dance\" more than or equal to 3.\n",
    "* HardRock is not preferred as much as \"Dance\" because the median is 2 and the trend goes downward side."
   ]
  },
  {
   "cell_type": "markdown",
   "id": "0e865a2e-4c45-4c9a-9882-ee0dff7f2053",
   "metadata": {},
   "source": [
    "### <font color=Blue>__Problem 3: Descriptive Statistics__ </font>\n",
    "\n",
    "__The below cell will :-__\n",
    "* Check for missing values in dataframe df2.  "
   ]
  },
  {
   "cell_type": "code",
   "execution_count": 13,
   "id": "a25ec7ed-ed49-424e-99ab-d4b4695f0729",
   "metadata": {},
   "outputs": [
    {
     "data": {
      "text/plain": [
       "Music                       3\n",
       "Slow songs or fast songs    2\n",
       "Dance                       4\n",
       "Folk                        5\n",
       "Country                     5\n",
       "                           ..\n",
       "Left - right handed         3\n",
       "Education                   1\n",
       "Only child                  2\n",
       "Village - town              4\n",
       "House - block of flats      4\n",
       "Length: 150, dtype: int64"
      ]
     },
     "execution_count": 13,
     "metadata": {},
     "output_type": "execute_result"
    }
   ],
   "source": [
    "df.isnull().sum()"
   ]
  },
  {
   "cell_type": "markdown",
   "id": "12460d75-7f5a-4fdb-a826-88b46fd4e6b2",
   "metadata": {},
   "source": [
    "__The below cell will :-__\n",
    "* Remove missing values from df2.\n",
    "* Verify if all the missing values got dropped or not by checking the null count."
   ]
  },
  {
   "cell_type": "code",
   "execution_count": 14,
   "id": "baeb8ec0-4def-4715-9fa8-b7acb00554b1",
   "metadata": {},
   "outputs": [
    {
     "name": "stdout",
     "output_type": "stream",
     "text": [
      "Music                       0\n",
      "Slow songs or fast songs    0\n",
      "Dance                       0\n",
      "Folk                        0\n",
      "Country                     0\n",
      "                           ..\n",
      "Left - right handed         0\n",
      "Education                   0\n",
      "Only child                  0\n",
      "Village - town              0\n",
      "House - block of flats      0\n",
      "Length: 150, dtype: int64\n"
     ]
    }
   ],
   "source": [
    "df3=df.dropna()\n",
    "print(df3.isnull().sum())"
   ]
  },
  {
   "cell_type": "markdown",
   "id": "ad1de3f3-b4f4-4e78-b02f-2785ef673870",
   "metadata": {},
   "source": [
    "__The below cell will :-__\n",
    "* Run the means, medians, and modes on column \"Music\"."
   ]
  },
  {
   "cell_type": "code",
   "execution_count": 15,
   "id": "d86c6745-0ab6-4dd3-ba37-16c160d55225",
   "metadata": {},
   "outputs": [
    {
     "name": "stdout",
     "output_type": "stream",
     "text": [
      "4.7626112759643915\n",
      "5.0\n",
      "0    5.0\n",
      "dtype: float64\n"
     ]
    }
   ],
   "source": [
    "print(df3.Music.mean())\n",
    "print(df3.Music.median())\n",
    "print(df3.Music.mode())"
   ]
  },
  {
   "cell_type": "markdown",
   "id": "da4a9d02-76ef-4723-8c4c-7ba48c0b7b5e",
   "metadata": {},
   "source": [
    "__The below cell will :-__\n",
    "* Groupby on column \"GenderCode\" and run the means on column \"Music\"\n",
    "* Counts of students by Education to make better analysis."
   ]
  },
  {
   "cell_type": "code",
   "execution_count": 16,
   "id": "fbcb2eae-2ddf-4116-a116-941977a7dbf3",
   "metadata": {},
   "outputs": [
    {
     "name": "stdout",
     "output_type": "stream",
     "text": [
      "Education\n",
      "college/bachelor degree             4.771429\n",
      "currently a primary school pupil    5.000000\n",
      "doctorate degree                    3.333333\n",
      "masters degree                      4.673077\n",
      "primary school                      4.698113\n",
      "secondary school                    4.787736\n",
      "Name: Music, dtype: float64\n",
      "secondary school                    621\n",
      "college/bachelor degree             212\n",
      "masters degree                       81\n",
      "primary school                       80\n",
      "currently a primary school pupil     10\n",
      "doctorate degree                      5\n",
      "Name: Education, dtype: int64\n"
     ]
    }
   ],
   "source": [
    "print(df3.Music.groupby(df.Education).mean())\n",
    "print(df.Education.value_counts())"
   ]
  },
  {
   "cell_type": "markdown",
   "id": "38f23b59-5d4d-46aa-9317-dca08c4a8814",
   "metadata": {},
   "source": [
    "__The above mean on Music categorized by Educations shows :-__\n",
    "* All the 10 students in primary schools loves Music. Everyone rating Music as 5 which is the max value and also above the total mean.\n",
    "* 5 Doctorate degree students are below the total mean as they might be investing most of their time studying and reseaching.\n",
    "* All the other students are in range of the total mean which is normal. "
   ]
  },
  {
   "cell_type": "markdown",
   "id": "844ae1c4-c70f-44a7-9617-1fb9a70a0d8e",
   "metadata": {},
   "source": [
    "__The below cell will :-__\n",
    "* Run a frequency on the \"Categorical\" column \"Education\" in df2 using value_counts."
   ]
  },
  {
   "cell_type": "code",
   "execution_count": 17,
   "id": "8debdf76-c29e-4491-b9e5-a773fa67a4e2",
   "metadata": {},
   "outputs": [
    {
     "data": {
      "text/plain": [
       "secondary school                    621\n",
       "college/bachelor degree             212\n",
       "masters degree                       81\n",
       "primary school                       80\n",
       "currently a primary school pupil     10\n",
       "doctorate degree                      5\n",
       "NaN                                   1\n",
       "Name: Education, dtype: int64"
      ]
     },
     "execution_count": 17,
     "metadata": {},
     "output_type": "execute_result"
    }
   ],
   "source": [
    "df.Education.value_counts(dropna = False)"
   ]
  },
  {
   "cell_type": "markdown",
   "id": "831a4031-6b34-416f-90c2-f1a01fb5bd0d",
   "metadata": {},
   "source": [
    "__The above results shows :-__\n",
    "* The survey majorly includes the secondary school students. More than 50% students ate from Secondary school (621/1010)\n",
    "* The second highest set of students are bachelor students from college which is 212.\n",
    "* The master and primary students are almost same 81 and 80 respectively.\n",
    "* There are few from Doctorate degree and primary school 5 and 10 respectively."
   ]
  },
  {
   "cell_type": "markdown",
   "id": "735f0858-b016-4657-9476-bd75aa92f449",
   "metadata": {},
   "source": [
    "__The below cell will :-__\n",
    "* Confirm that the above Education counts are valid."
   ]
  },
  {
   "cell_type": "code",
   "execution_count": 18,
   "id": "c12f5ddf-b7f9-4323-80d5-ca4ae2d03eb9",
   "metadata": {},
   "outputs": [
    {
     "name": "stdout",
     "output_type": "stream",
     "text": [
      "secondary school 621\n",
      "college/bachelor degree 212\n",
      "masters degree 81\n",
      "primary school 80\n",
      "currently a primary school pupil 10\n",
      "doctorate degree 5\n",
      "No Education 1\n"
     ]
    }
   ],
   "source": [
    "print('secondary school',df.Education.where(df.Education == 'secondary school').count())\n",
    "print('college/bachelor degree',df.Education.where(df.Education == 'college/bachelor degree').count())\n",
    "print('masters degree',df.Education.where(df.Education == 'masters degree').count())\n",
    "print('primary school',df.Education.where(df.Education == 'primary school').count())\n",
    "print('currently a primary school pupil',df.Education.where(df.Education == 'currently a primary school pupil').count())\n",
    "print('doctorate degree',df.Education.where(df.Education == 'doctorate degree').count())\n",
    "print('No Education',df.Education.isnull().sum())"
   ]
  },
  {
   "cell_type": "markdown",
   "id": "ffa4372e-9b42-4ec9-96fc-73a3c82649d1",
   "metadata": {},
   "source": [
    "### <font color=Blue>__Problem 4: List and Dictionaries__ </font> </br>\n",
    "\n",
    "__The below cell will__ :-\n",
    "* Create a calcAverage function that takes a list as a parameter.\n",
    "    * The function will take List as a parameter.\n",
    "    * It will calculate the length of the list.\n",
    "    * It will also calculate the sum of all the values in the list.\n",
    "    * It will return the Average of the all the values in the list by diving the sum with the number of values in the list."
   ]
  },
  {
   "cell_type": "code",
   "execution_count": 19,
   "id": "433b83e9-97e2-4fc2-bc09-69ddd44f27d9",
   "metadata": {},
   "outputs": [],
   "source": [
    "def calcAverage(lst):\n",
    "    numerator = 0\n",
    "    length = 0\n",
    "    \n",
    "    for i in lst:\n",
    "        length = length +1\n",
    "        \n",
    "        \n",
    "    for i in range(length):\n",
    "        numerator = numerator + lst[i]\n",
    "        \n",
    "    return numerator/length    "
   ]
  },
  {
   "cell_type": "markdown",
   "id": "73f0a81d-9ca9-4bbc-9509-ac405082a682",
   "metadata": {},
   "source": [
    "__The below cell will__ :-\n",
    "* Create a list called my_family. The list contains the ages of friends or family members.\n",
    "* Call the calcAverage function, passing the list of ages to the calcAverage function. The function will *only* calculate and return the average back to the script. It will not print out the average.\n",
    "* Print out the result as: _My family's average age is 48.70._ The score will be rounded to two decimal places."
   ]
  },
  {
   "cell_type": "code",
   "execution_count": 20,
   "id": "bb474743-8592-45d9-9885-f0ec8537bf01",
   "metadata": {},
   "outputs": [
    {
     "name": "stdout",
     "output_type": "stream",
     "text": [
      "My family's average age is 40.29\n"
     ]
    }
   ],
   "source": [
    "my_family= [36,37,7,65,64,39,34]\n",
    "AvgAge = calcAverage(my_family)\n",
    "print('My family\\'s average age is {:.2f}'.format(AvgAge))"
   ]
  },
  {
   "cell_type": "markdown",
   "id": "3ba1d2c1-52c7-43ab-860a-b1f2bff4c6d9",
   "metadata": {},
   "source": [
    "__The below cell will__ :-\n",
    "* Create a function that determines a person's generation taking __\"Birth Year\"__ as parameter and returns a string that represents the generation:\n",
    "  * Silent Generation (1928-1945)\n",
    "  * Baby Boomers (1946-1964)\n",
    "  * GenX (1965-1980)\n",
    "  * Millennials (1981-1996)\n",
    "  * GenZ (1997-2012)"
   ]
  },
  {
   "cell_type": "code",
   "execution_count": 21,
   "id": "798c5431-a04b-4003-80fd-d1f91454e1b9",
   "metadata": {},
   "outputs": [],
   "source": [
    "def gen(a):\n",
    "    if a >=1928 and a <=1945:\n",
    "        return 'This person belongs to Silent Generation'\n",
    "    elif a >=1946 and a <=1964:\n",
    "        return 'This person belongs to Baby Boomers'\n",
    "    elif a >=1965 and a <=1980:\n",
    "        return 'This person belongs to GenX'\n",
    "    elif a >=1981 and a <=1996:\n",
    "        return 'This person belongs to Millennials'\n",
    "    elif a >=1997 and a <=2012:\n",
    "        return 'This person belongs to GenZ'\n",
    "    else:\n",
    "        return 'Out of Range. Please try wth year between 1928 and 2012'"
   ]
  },
  {
   "cell_type": "code",
   "execution_count": 22,
   "id": "18946d04-9727-477b-aa5c-49dfc2531977",
   "metadata": {},
   "outputs": [
    {
     "data": {
      "text/plain": [
       "'This person belongs to GenX'"
      ]
     },
     "execution_count": 22,
     "metadata": {},
     "output_type": "execute_result"
    }
   ],
   "source": [
    "gen(1967)"
   ]
  },
  {
   "cell_type": "markdown",
   "id": "89286742-5060-4f31-beb0-608e0ab809a0",
   "metadata": {},
   "source": [
    "__REFLECTION :-__\n",
    "* First define the function what it will perform when called.\n",
    "* Gave function a name and number of parameter required by the function. It will by default infer the type of the parameter.\n",
    "* Used a conditional statement as we need to return a string based on the condition. if-elif-else statement is used to put conditions and provided all the conditions.\n",
    "* Added a Else statement too to cover for any out of range value and guide the user to provide a value in range. \n"
   ]
  },
  {
   "cell_type": "code",
   "execution_count": null,
   "id": "af8393ec-0f70-40cf-b348-74b6dc054a18",
   "metadata": {},
   "outputs": [],
   "source": []
  }
 ],
 "metadata": {
  "kernelspec": {
   "display_name": "Python 3",
   "language": "python",
   "name": "python3"
  },
  "language_info": {
   "codemirror_mode": {
    "name": "ipython",
    "version": 3
   },
   "file_extension": ".py",
   "mimetype": "text/x-python",
   "name": "python",
   "nbconvert_exporter": "python",
   "pygments_lexer": "ipython3",
   "version": "3.6.13"
  }
 },
 "nbformat": 4,
 "nbformat_minor": 5
}
